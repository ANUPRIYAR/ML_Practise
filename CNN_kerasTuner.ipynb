{
  "nbformat": 4,
  "nbformat_minor": 0,
  "metadata": {
    "colab": {
      "name": "CNN_kerasTuner.ipynb",
      "provenance": [],
      "mount_file_id": "1lv278e_BpFqqXf6SQiTsQjl4_Qz22nSy",
      "authorship_tag": "ABX9TyMIjMS9ElFeNTro9yYNKXNl",
      "include_colab_link": true
    },
    "kernelspec": {
      "name": "python3",
      "display_name": "Python 3"
    },
    "accelerator": "GPU"
  },
  "cells": [
    {
      "cell_type": "markdown",
      "metadata": {
        "id": "view-in-github",
        "colab_type": "text"
      },
      "source": [
        "<a href=\"https://colab.research.google.com/github/ANUPRIYAR/ML_Practise/blob/main/CNN_kerasTuner.ipynb\" target=\"_parent\"><img src=\"https://colab.research.google.com/assets/colab-badge.svg\" alt=\"Open In Colab\"/></a>"
      ]
    },
    {
      "cell_type": "code",
      "metadata": {
        "colab": {
          "base_uri": "https://localhost:8080/"
        },
        "id": "g-wOESKNLC7w",
        "outputId": "3d74991c-4493-47ba-bbf2-66e98b60c3c9"
      },
      "source": [
        "!pip install keras-tuner"
      ],
      "execution_count": 1,
      "outputs": [
        {
          "output_type": "stream",
          "text": [
            "Collecting keras-tuner\n",
            "\u001b[?25l  Downloading https://files.pythonhosted.org/packages/20/ec/1ef246787174b1e2bb591c95f29d3c1310070cad877824f907faba3dade9/keras-tuner-1.0.2.tar.gz (62kB)\n",
            "\r\u001b[K     |█████▏                          | 10kB 24.2MB/s eta 0:00:01\r\u001b[K     |██████████▍                     | 20kB 30.2MB/s eta 0:00:01\r\u001b[K     |███████████████▋                | 30kB 23.5MB/s eta 0:00:01\r\u001b[K     |████████████████████▉           | 40kB 18.6MB/s eta 0:00:01\r\u001b[K     |██████████████████████████      | 51kB 13.5MB/s eta 0:00:01\r\u001b[K     |███████████████████████████████▎| 61kB 14.5MB/s eta 0:00:01\r\u001b[K     |████████████████████████████████| 71kB 6.9MB/s \n",
            "\u001b[?25hRequirement already satisfied: packaging in /usr/local/lib/python3.6/dist-packages (from keras-tuner) (20.8)\n",
            "Requirement already satisfied: future in /usr/local/lib/python3.6/dist-packages (from keras-tuner) (0.16.0)\n",
            "Requirement already satisfied: numpy in /usr/local/lib/python3.6/dist-packages (from keras-tuner) (1.19.4)\n",
            "Requirement already satisfied: tabulate in /usr/local/lib/python3.6/dist-packages (from keras-tuner) (0.8.7)\n",
            "Collecting terminaltables\n",
            "  Downloading https://files.pythonhosted.org/packages/9b/c4/4a21174f32f8a7e1104798c445dacdc1d4df86f2f26722767034e4de4bff/terminaltables-3.1.0.tar.gz\n",
            "Collecting colorama\n",
            "  Downloading https://files.pythonhosted.org/packages/44/98/5b86278fbbf250d239ae0ecb724f8572af1c91f4a11edf4d36a206189440/colorama-0.4.4-py2.py3-none-any.whl\n",
            "Requirement already satisfied: tqdm in /usr/local/lib/python3.6/dist-packages (from keras-tuner) (4.41.1)\n",
            "Requirement already satisfied: requests in /usr/local/lib/python3.6/dist-packages (from keras-tuner) (2.23.0)\n",
            "Requirement already satisfied: scipy in /usr/local/lib/python3.6/dist-packages (from keras-tuner) (1.4.1)\n",
            "Requirement already satisfied: scikit-learn in /usr/local/lib/python3.6/dist-packages (from keras-tuner) (0.22.2.post1)\n",
            "Requirement already satisfied: pyparsing>=2.0.2 in /usr/local/lib/python3.6/dist-packages (from packaging->keras-tuner) (2.4.7)\n",
            "Requirement already satisfied: certifi>=2017.4.17 in /usr/local/lib/python3.6/dist-packages (from requests->keras-tuner) (2020.12.5)\n",
            "Requirement already satisfied: chardet<4,>=3.0.2 in /usr/local/lib/python3.6/dist-packages (from requests->keras-tuner) (3.0.4)\n",
            "Requirement already satisfied: urllib3!=1.25.0,!=1.25.1,<1.26,>=1.21.1 in /usr/local/lib/python3.6/dist-packages (from requests->keras-tuner) (1.24.3)\n",
            "Requirement already satisfied: idna<3,>=2.5 in /usr/local/lib/python3.6/dist-packages (from requests->keras-tuner) (2.10)\n",
            "Requirement already satisfied: joblib>=0.11 in /usr/local/lib/python3.6/dist-packages (from scikit-learn->keras-tuner) (1.0.0)\n",
            "Building wheels for collected packages: keras-tuner, terminaltables\n",
            "  Building wheel for keras-tuner (setup.py) ... \u001b[?25l\u001b[?25hdone\n",
            "  Created wheel for keras-tuner: filename=keras_tuner-1.0.2-cp36-none-any.whl size=78939 sha256=31873b730e76959d399e942b63e13d299f476dbd32ff46c77d23dc981eeb99bf\n",
            "  Stored in directory: /root/.cache/pip/wheels/bb/a1/8a/7c3de0efb3707a1701b36ebbfdbc4e67aedf6d4943a1f463d6\n",
            "  Building wheel for terminaltables (setup.py) ... \u001b[?25l\u001b[?25hdone\n",
            "  Created wheel for terminaltables: filename=terminaltables-3.1.0-cp36-none-any.whl size=15358 sha256=9394920080277c7520c578f82323695d0139df220a60ac3c3fc46788e90afafe\n",
            "  Stored in directory: /root/.cache/pip/wheels/30/6b/50/6c75775b681fb36cdfac7f19799888ef9d8813aff9e379663e\n",
            "Successfully built keras-tuner terminaltables\n",
            "Installing collected packages: terminaltables, colorama, keras-tuner\n",
            "Successfully installed colorama-0.4.4 keras-tuner-1.0.2 terminaltables-3.1.0\n"
          ],
          "name": "stdout"
        }
      ]
    },
    {
      "cell_type": "code",
      "metadata": {
        "id": "PXNRFS9iSS7K"
      },
      "source": [
        "import tensorflow as tf\r\n",
        "from tensorflow import keras\r\n",
        "import numpy as np"
      ],
      "execution_count": 2,
      "outputs": []
    },
    {
      "cell_type": "code",
      "metadata": {
        "colab": {
          "base_uri": "https://localhost:8080/",
          "height": 35
        },
        "id": "Bm2Q3E5ymgMf",
        "outputId": "4973f66c-21bf-4833-df18-b3e4eaa199df"
      },
      "source": [
        "tf.__version__"
      ],
      "execution_count": 3,
      "outputs": [
        {
          "output_type": "execute_result",
          "data": {
            "application/vnd.google.colaboratory.intrinsic+json": {
              "type": "string"
            },
            "text/plain": [
              "'2.4.0'"
            ]
          },
          "metadata": {
            "tags": []
          },
          "execution_count": 3
        }
      ]
    },
    {
      "cell_type": "code",
      "metadata": {
        "id": "uMLw-AdkmjyB"
      },
      "source": [
        "fashion_mnist = keras.datasets.fashion_mnist"
      ],
      "execution_count": 4,
      "outputs": []
    },
    {
      "cell_type": "code",
      "metadata": {
        "colab": {
          "base_uri": "https://localhost:8080/"
        },
        "id": "WeWB2Mf8mqB_",
        "outputId": "bbb5860f-18ca-4706-f376-55d0257ec9b6"
      },
      "source": [
        "(train_images,train_labels), (test_images, test_labels) = fashion_mnist.load_data()"
      ],
      "execution_count": 5,
      "outputs": [
        {
          "output_type": "stream",
          "text": [
            "Downloading data from https://storage.googleapis.com/tensorflow/tf-keras-datasets/train-labels-idx1-ubyte.gz\n",
            "32768/29515 [=================================] - 0s 0us/step\n",
            "Downloading data from https://storage.googleapis.com/tensorflow/tf-keras-datasets/train-images-idx3-ubyte.gz\n",
            "26427392/26421880 [==============================] - 0s 0us/step\n",
            "Downloading data from https://storage.googleapis.com/tensorflow/tf-keras-datasets/t10k-labels-idx1-ubyte.gz\n",
            "8192/5148 [===============================================] - 0s 0us/step\n",
            "Downloading data from https://storage.googleapis.com/tensorflow/tf-keras-datasets/t10k-images-idx3-ubyte.gz\n",
            "4423680/4422102 [==============================] - 0s 0us/step\n"
          ],
          "name": "stdout"
        }
      ]
    },
    {
      "cell_type": "code",
      "metadata": {
        "id": "jX6Vaajhm24r"
      },
      "source": [
        "train_images = train_images/255\r\n",
        "test_images = test_images/255"
      ],
      "execution_count": 7,
      "outputs": []
    },
    {
      "cell_type": "code",
      "metadata": {
        "colab": {
          "base_uri": "https://localhost:8080/"
        },
        "id": "ZRiETzyNm8Rq",
        "outputId": "65a17d6d-53b0-4638-d84c-52580d51c628"
      },
      "source": [
        "train_images[0].shape"
      ],
      "execution_count": 8,
      "outputs": [
        {
          "output_type": "execute_result",
          "data": {
            "text/plain": [
              "(28, 28)"
            ]
          },
          "metadata": {
            "tags": []
          },
          "execution_count": 8
        }
      ]
    },
    {
      "cell_type": "code",
      "metadata": {
        "id": "wUvY5iq_nH65"
      },
      "source": [
        "train_images = train_images.reshape(len(train_images),28,28,1)\r\n",
        "test_images = test_images.reshape(len(test_images),28,28,1)"
      ],
      "execution_count": 9,
      "outputs": []
    },
    {
      "cell_type": "code",
      "metadata": {
        "id": "565ymWI6ndC3"
      },
      "source": [
        "def build_model(hp):\r\n",
        "  model = keras.Sequential([\r\n",
        "               keras.layers.Conv2D(\r\n",
        "                   filters=hp.Int('conv_1_filter', min_value=32, max_value=128, step=16),\r\n",
        "                   kernel_size=hp.Choice('conv_1_kernel', values=[3,5]),\r\n",
        "                   activation='relu'\r\n",
        "               ),\r\n",
        "                 keras.layers.Conv2D(\r\n",
        "                   filters=hp.Int('conv_2_filter', min_value=32, max_value=128, step=16),\r\n",
        "                   kernel_size=hp.Choice('conv_2_kernel', values=[3,5]),\r\n",
        "                   activation='relu'\r\n",
        "               ),   \r\n",
        "               keras.layers.Flatten(),\r\n",
        "               keras.layers.Dense(\r\n",
        "                   units=hp.Int('dense_1_units',min_value=32, max_value=128, step=16),\r\n",
        "                   activation='relu'\r\n",
        "               ),\r\n",
        "               keras.layers.Dense(10,activation='softmax')                                    \r\n",
        "  ])\r\n",
        "  model.compile(optimizer=keras.optimizers.Adam(hp.Choice('learning_rate', values=[1e-2,1e-3])),\r\n",
        "                loss='sparse_categorical_crossentropy', metrics=['accuracy'])\r\n",
        "  return model\r\n",
        "\r\n"
      ],
      "execution_count": 17,
      "outputs": []
    },
    {
      "cell_type": "code",
      "metadata": {
        "id": "EMbsI0xlrbw9"
      },
      "source": [
        "from kerastuner import RandomSearch\r\n",
        "from kerastuner.engine.hyperparameters import HyperParameters"
      ],
      "execution_count": 15,
      "outputs": []
    },
    {
      "cell_type": "code",
      "metadata": {
        "id": "XpcYrQJgrpwA"
      },
      "source": [
        "tuner_search = RandomSearch(build_model,\r\n",
        "                            objective='val_accuracy',\r\n",
        "                            max_trials=5,\r\n",
        "                            directory='output',\r\n",
        "                            project_name='Fashion_mnist')"
      ],
      "execution_count": 18,
      "outputs": []
    },
    {
      "cell_type": "code",
      "metadata": {
        "colab": {
          "base_uri": "https://localhost:8080/"
        },
        "id": "gkQsMLRFsFDY",
        "outputId": "ce4053cf-9a4d-468f-9bee-fc036f3f135c"
      },
      "source": [
        "tuner_search.search(train_images,train_labels, epochs=3, validation_split=0.1)"
      ],
      "execution_count": 19,
      "outputs": [
        {
          "output_type": "stream",
          "text": [
            "Trial 5 Complete [00h 00m 28s]\n",
            "val_accuracy: 0.1003333330154419\n",
            "\n",
            "Best val_accuracy So Far: 0.8351666927337646\n",
            "Total elapsed time: 00h 02m 23s\n",
            "INFO:tensorflow:Oracle triggered exit\n"
          ],
          "name": "stdout"
        }
      ]
    },
    {
      "cell_type": "code",
      "metadata": {
        "id": "ENthAdrlsqcc"
      },
      "source": [
        "model = tuner_search.get_best_models(num_models=1)[0]"
      ],
      "execution_count": 20,
      "outputs": []
    },
    {
      "cell_type": "code",
      "metadata": {
        "colab": {
          "base_uri": "https://localhost:8080/"
        },
        "id": "e6oBE-zKtqHi",
        "outputId": "104a3ac8-0500-408e-89b4-127e0efd3c78"
      },
      "source": [
        "model.summary()"
      ],
      "execution_count": 26,
      "outputs": [
        {
          "output_type": "stream",
          "text": [
            "Model: \"sequential\"\n",
            "_________________________________________________________________\n",
            "Layer (type)                 Output Shape              Param #   \n",
            "=================================================================\n",
            "conv2d (Conv2D)              (None, 26, 26, 96)        960       \n",
            "_________________________________________________________________\n",
            "conv2d_1 (Conv2D)            (None, 22, 22, 112)       268912    \n",
            "_________________________________________________________________\n",
            "flatten (Flatten)            (None, 54208)             0         \n",
            "_________________________________________________________________\n",
            "dense (Dense)                (None, 80)                4336720   \n",
            "_________________________________________________________________\n",
            "dense_1 (Dense)              (None, 10)                810       \n",
            "=================================================================\n",
            "Total params: 4,607,402\n",
            "Trainable params: 4,607,402\n",
            "Non-trainable params: 0\n",
            "_________________________________________________________________\n"
          ],
          "name": "stdout"
        }
      ]
    },
    {
      "cell_type": "code",
      "metadata": {
        "colab": {
          "base_uri": "https://localhost:8080/"
        },
        "id": "HT-WUVgUts-R",
        "outputId": "a18be2c5-987a-4ed6-9de5-9e001bb83647"
      },
      "source": [
        "model.fit(train_images, train_labels, validation_split=0.1, epochs=10, initial_epoch=3)"
      ],
      "execution_count": 25,
      "outputs": [
        {
          "output_type": "stream",
          "text": [
            "Epoch 4/10\n",
            "1688/1688 [==============================] - 10s 6ms/step - loss: 0.4331 - accuracy: 0.8444 - val_loss: 0.4045 - val_accuracy: 0.8495\n",
            "Epoch 5/10\n",
            "1688/1688 [==============================] - 10s 6ms/step - loss: 0.4027 - accuracy: 0.8551 - val_loss: 0.3866 - val_accuracy: 0.8578\n",
            "Epoch 6/10\n",
            "1688/1688 [==============================] - 10s 6ms/step - loss: 0.3781 - accuracy: 0.8630 - val_loss: 0.3941 - val_accuracy: 0.8513\n",
            "Epoch 7/10\n",
            "1688/1688 [==============================] - 10s 6ms/step - loss: 0.3607 - accuracy: 0.8713 - val_loss: 0.3555 - val_accuracy: 0.8727\n",
            "Epoch 8/10\n",
            "1688/1688 [==============================] - 10s 6ms/step - loss: 0.3447 - accuracy: 0.8745 - val_loss: 0.3614 - val_accuracy: 0.8705\n",
            "Epoch 9/10\n",
            "1688/1688 [==============================] - 10s 6ms/step - loss: 0.3297 - accuracy: 0.8790 - val_loss: 0.3342 - val_accuracy: 0.8780\n",
            "Epoch 10/10\n",
            "1688/1688 [==============================] - 10s 6ms/step - loss: 0.3147 - accuracy: 0.8847 - val_loss: 0.3489 - val_accuracy: 0.8747\n"
          ],
          "name": "stdout"
        },
        {
          "output_type": "execute_result",
          "data": {
            "text/plain": [
              "<tensorflow.python.keras.callbacks.History at 0x7ff8700aa518>"
            ]
          },
          "metadata": {
            "tags": []
          },
          "execution_count": 25
        }
      ]
    },
    {
      "cell_type": "code",
      "metadata": {
        "id": "EXU4Xa2-u-nI"
      },
      "source": [
        ""
      ],
      "execution_count": null,
      "outputs": []
    }
  ]
}