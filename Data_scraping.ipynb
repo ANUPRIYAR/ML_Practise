{
 "cells": [
  {
   "cell_type": "code",
   "execution_count": 94,
   "metadata": {},
   "outputs": [],
   "source": [
    "from bs4 import BeautifulSoup\n",
    "import requests\n",
    "import csv\n",
    "import pandas as pd"
   ]
  },
  {
   "cell_type": "code",
   "execution_count": 68,
   "metadata": {},
   "outputs": [],
   "source": [
    "url = \"https://data.gov.sg/dataset/acra-information-on-corporate-entities?resource_id=3b8539bb-5c22-4540-a420-86db444810d3\"\n",
    "headers= {\"User-agent\": \"Mozilla/5.0 (Windows NT 10.0; Win64; x64) AppleWebKit/537.36 (KHTML, like Gecko) Chrome/87.0.4280.88 Safari/537.36\"}"
   ]
  },
  {
   "cell_type": "code",
   "execution_count": 69,
   "metadata": {},
   "outputs": [],
   "source": [
    "page = requests.get(url, headers=headers)"
   ]
  },
  {
   "cell_type": "code",
   "execution_count": 70,
   "metadata": {},
   "outputs": [],
   "source": [
    "soup = BeautifulSoup(page.content, 'html.parser')"
   ]
  },
  {
   "cell_type": "code",
   "execution_count": 71,
   "metadata": {},
   "outputs": [],
   "source": [
    "table = soup.find(\"table\", attrs = { \"class\" : \"table table-condensed\"})"
   ]
  },
  {
   "cell_type": "code",
   "execution_count": 103,
   "metadata": {},
   "outputs": [],
   "source": [
    "col_list = table.thead.get_text()\n",
    "cols = col_list.strip().split(sep='\\n')"
   ]
  },
  {
   "cell_type": "code",
   "execution_count": 73,
   "metadata": {},
   "outputs": [],
   "source": [
    "rows = table.tbody.find_all('tr')"
   ]
  },
  {
   "cell_type": "code",
   "execution_count": 78,
   "metadata": {},
   "outputs": [
    {
     "data": {
      "text/plain": [
       "[['1'],\n",
       " ['business_constitution_description'],\n",
       " ['Business constitution description'],\n",
       " ['\\n            Text (General)\\n            \\n            \\n          '],\n",
       " ['-'],\n",
       " ['\\n            \\n            \\n              \\n                \"na\" : Data not available or not applicable\\n                \\n              \\n            \\n          ']]"
      ]
     },
     "execution_count": 78,
     "metadata": {},
     "output_type": "execute_result"
    }
   ],
   "source": [
    "data = [[td.findChildren(text=True) for td in tr.findAll(\"td\")] for tr in rows] \n",
    "data[0]"
   ]
  },
  {
   "cell_type": "code",
   "execution_count": 106,
   "metadata": {},
   "outputs": [],
   "source": [
    "data_cleaned = [[''.join(item).strip() for item in row] for row in data]"
   ]
  },
  {
   "cell_type": "code",
   "execution_count": 107,
   "metadata": {},
   "outputs": [
    {
     "data": {
      "text/plain": [
       "['1',\n",
       " 'business_constitution_description',\n",
       " 'Business constitution description',\n",
       " 'Text (General)',\n",
       " '-',\n",
       " '\"na\" : Data not available or not applicable']"
      ]
     },
     "execution_count": 107,
     "metadata": {},
     "output_type": "execute_result"
    }
   ],
   "source": [
    "data_cleaned[0]"
   ]
  },
  {
   "cell_type": "code",
   "execution_count": 108,
   "metadata": {},
   "outputs": [],
   "source": [
    "df = pd.DataFrame(data_cleaned, columns=cols)"
   ]
  },
  {
   "cell_type": "code",
   "execution_count": 109,
   "metadata": {},
   "outputs": [
    {
     "data": {
      "text/html": [
       "<div>\n",
       "<style scoped>\n",
       "    .dataframe tbody tr th:only-of-type {\n",
       "        vertical-align: middle;\n",
       "    }\n",
       "\n",
       "    .dataframe tbody tr th {\n",
       "        vertical-align: top;\n",
       "    }\n",
       "\n",
       "    .dataframe thead th {\n",
       "        text-align: right;\n",
       "    }\n",
       "</style>\n",
       "<table border=\"1\" class=\"dataframe\">\n",
       "  <thead>\n",
       "    <tr style=\"text-align: right;\">\n",
       "      <th></th>\n",
       "      <th>No.</th>\n",
       "      <th>Name</th>\n",
       "      <th>Title</th>\n",
       "      <th>Type</th>\n",
       "      <th>Unit of Measure</th>\n",
       "      <th>Description</th>\n",
       "    </tr>\n",
       "  </thead>\n",
       "  <tbody>\n",
       "    <tr>\n",
       "      <th>0</th>\n",
       "      <td>1</td>\n",
       "      <td>business_constitution_description</td>\n",
       "      <td>Business constitution description</td>\n",
       "      <td>Text (General)</td>\n",
       "      <td>-</td>\n",
       "      <td>\"na\" : Data not available or not applicable</td>\n",
       "    </tr>\n",
       "    <tr>\n",
       "      <th>1</th>\n",
       "      <td>2</td>\n",
       "      <td>primary_ssic_description</td>\n",
       "      <td>Primary ssic description</td>\n",
       "      <td>Text (General)</td>\n",
       "      <td>-</td>\n",
       "      <td>-</td>\n",
       "    </tr>\n",
       "    <tr>\n",
       "      <th>2</th>\n",
       "      <td>3</td>\n",
       "      <td>primary_user_described_activity</td>\n",
       "      <td>Primary user described activity</td>\n",
       "      <td>Text (General)</td>\n",
       "      <td>-</td>\n",
       "      <td>\"na\" : Data not available or not applicable\\n ...</td>\n",
       "    </tr>\n",
       "    <tr>\n",
       "      <th>3</th>\n",
       "      <td>4</td>\n",
       "      <td>street_name</td>\n",
       "      <td>Street name</td>\n",
       "      <td>Text (General)</td>\n",
       "      <td>-</td>\n",
       "      <td>\"na\" : Data not available or not applicable</td>\n",
       "    </tr>\n",
       "    <tr>\n",
       "      <th>4</th>\n",
       "      <td>5</td>\n",
       "      <td>entity_status_description</td>\n",
       "      <td>Entity status description</td>\n",
       "      <td>Text (General)</td>\n",
       "      <td>-</td>\n",
       "      <td>\"na\" : Data not available or not applicable</td>\n",
       "    </tr>\n",
       "  </tbody>\n",
       "</table>\n",
       "</div>"
      ],
      "text/plain": [
       "  No.                               Name                              Title  \\\n",
       "0   1  business_constitution_description  Business constitution description   \n",
       "1   2           primary_ssic_description           Primary ssic description   \n",
       "2   3    primary_user_described_activity    Primary user described activity   \n",
       "3   4                        street_name                        Street name   \n",
       "4   5          entity_status_description          Entity status description   \n",
       "\n",
       "             Type Unit of Measure  \\\n",
       "0  Text (General)               -   \n",
       "1  Text (General)               -   \n",
       "2  Text (General)               -   \n",
       "3  Text (General)               -   \n",
       "4  Text (General)               -   \n",
       "\n",
       "                                         Description  \n",
       "0        \"na\" : Data not available or not applicable  \n",
       "1                                                  -  \n",
       "2  \"na\" : Data not available or not applicable\\n ...  \n",
       "3        \"na\" : Data not available or not applicable  \n",
       "4        \"na\" : Data not available or not applicable  "
      ]
     },
     "execution_count": 109,
     "metadata": {},
     "output_type": "execute_result"
    }
   ],
   "source": [
    "df.head()"
   ]
  },
  {
   "cell_type": "code",
   "execution_count": 110,
   "metadata": {},
   "outputs": [
    {
     "data": {
      "text/plain": [
       "(94, 6)"
      ]
     },
     "execution_count": 110,
     "metadata": {},
     "output_type": "execute_result"
    }
   ],
   "source": [
    "df.shape"
   ]
  },
  {
   "cell_type": "code",
   "execution_count": null,
   "metadata": {},
   "outputs": [],
   "source": []
  }
 ],
 "metadata": {
  "kernelspec": {
   "display_name": "Python 3",
   "language": "python",
   "name": "python3"
  },
  "language_info": {
   "codemirror_mode": {
    "name": "ipython",
    "version": 3
   },
   "file_extension": ".py",
   "mimetype": "text/x-python",
   "name": "python",
   "nbconvert_exporter": "python",
   "pygments_lexer": "ipython3",
   "version": "3.7.3"
  }
 },
 "nbformat": 4,
 "nbformat_minor": 2
}
