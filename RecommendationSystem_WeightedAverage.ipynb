{
  "nbformat": 4,
  "nbformat_minor": 0,
  "metadata": {
    "colab": {
      "name": "RecommendationSystem_WeightedAverage.ipynb",
      "provenance": [],
      "mount_file_id": "13NZs9DbKUTL2HaLok7g4FKtVJTUzzZ4b",
      "authorship_tag": "ABX9TyPFcpn2fpyukoqMd3uAVMn6",
      "include_colab_link": true
    },
    "kernelspec": {
      "name": "python3",
      "display_name": "Python 3"
    }
  },
  "cells": [
    {
      "cell_type": "markdown",
      "metadata": {
        "id": "view-in-github",
        "colab_type": "text"
      },
      "source": [
        "<a href=\"https://colab.research.google.com/github/ANUPRIYAR/ML_Practise/blob/main/RecommendationSystem_WeightedAverage.ipynb\" target=\"_parent\"><img src=\"https://colab.research.google.com/assets/colab-badge.svg\" alt=\"Open In Colab\"/></a>"
      ]
    },
    {
      "cell_type": "markdown",
      "metadata": {
        "id": "bGyzGsfnuyBD"
      },
      "source": [
        "# **Average Weighted Recommendation System**"
      ]
    },
    {
      "cell_type": "code",
      "metadata": {
        "id": "IitI_taFrO1C"
      },
      "source": [
        "import pandas as pd\r\n",
        "import numpy as np\r\n",
        "import matplotlib.pyplot as plt\r\n",
        "import seaborn as sns\r\n",
        "import warnings\r\n",
        "warnings.filterwarnings('ignore')\r\n",
        "%matplotlib inline"
      ],
      "execution_count": 34,
      "outputs": []
    },
    {
      "cell_type": "code",
      "metadata": {
        "id": "zbNm3MYltuqC"
      },
      "source": [
        "credits = pd.read_csv(\"/content/drive/MyDrive/Deep_learning/Datasets/tmdb_5000_credits.csv.zip\")\r\n",
        "movies = pd.read_csv(\"/content/drive/MyDrive/Deep_learning/Datasets/tmdb_5000_movies.csv.zip\")"
      ],
      "execution_count": 4,
      "outputs": []
    },
    {
      "cell_type": "code",
      "metadata": {
        "colab": {
          "base_uri": "https://localhost:8080/",
          "height": 204
        },
        "id": "hFUXzcrqt-Ak",
        "outputId": "dd703881-c3e9-4710-881d-6083f913c421"
      },
      "source": [
        "credits.head()"
      ],
      "execution_count": 5,
      "outputs": [
        {
          "output_type": "execute_result",
          "data": {
            "text/html": [
              "<div>\n",
              "<style scoped>\n",
              "    .dataframe tbody tr th:only-of-type {\n",
              "        vertical-align: middle;\n",
              "    }\n",
              "\n",
              "    .dataframe tbody tr th {\n",
              "        vertical-align: top;\n",
              "    }\n",
              "\n",
              "    .dataframe thead th {\n",
              "        text-align: right;\n",
              "    }\n",
              "</style>\n",
              "<table border=\"1\" class=\"dataframe\">\n",
              "  <thead>\n",
              "    <tr style=\"text-align: right;\">\n",
              "      <th></th>\n",
              "      <th>movie_id</th>\n",
              "      <th>title</th>\n",
              "      <th>cast</th>\n",
              "      <th>crew</th>\n",
              "    </tr>\n",
              "  </thead>\n",
              "  <tbody>\n",
              "    <tr>\n",
              "      <th>0</th>\n",
              "      <td>19995</td>\n",
              "      <td>Avatar</td>\n",
              "      <td>[{\"cast_id\": 242, \"character\": \"Jake Sully\", \"...</td>\n",
              "      <td>[{\"credit_id\": \"52fe48009251416c750aca23\", \"de...</td>\n",
              "    </tr>\n",
              "    <tr>\n",
              "      <th>1</th>\n",
              "      <td>285</td>\n",
              "      <td>Pirates of the Caribbean: At World's End</td>\n",
              "      <td>[{\"cast_id\": 4, \"character\": \"Captain Jack Spa...</td>\n",
              "      <td>[{\"credit_id\": \"52fe4232c3a36847f800b579\", \"de...</td>\n",
              "    </tr>\n",
              "    <tr>\n",
              "      <th>2</th>\n",
              "      <td>206647</td>\n",
              "      <td>Spectre</td>\n",
              "      <td>[{\"cast_id\": 1, \"character\": \"James Bond\", \"cr...</td>\n",
              "      <td>[{\"credit_id\": \"54805967c3a36829b5002c41\", \"de...</td>\n",
              "    </tr>\n",
              "    <tr>\n",
              "      <th>3</th>\n",
              "      <td>49026</td>\n",
              "      <td>The Dark Knight Rises</td>\n",
              "      <td>[{\"cast_id\": 2, \"character\": \"Bruce Wayne / Ba...</td>\n",
              "      <td>[{\"credit_id\": \"52fe4781c3a36847f81398c3\", \"de...</td>\n",
              "    </tr>\n",
              "    <tr>\n",
              "      <th>4</th>\n",
              "      <td>49529</td>\n",
              "      <td>John Carter</td>\n",
              "      <td>[{\"cast_id\": 5, \"character\": \"John Carter\", \"c...</td>\n",
              "      <td>[{\"credit_id\": \"52fe479ac3a36847f813eaa3\", \"de...</td>\n",
              "    </tr>\n",
              "  </tbody>\n",
              "</table>\n",
              "</div>"
            ],
            "text/plain": [
              "   movie_id  ...                                               crew\n",
              "0     19995  ...  [{\"credit_id\": \"52fe48009251416c750aca23\", \"de...\n",
              "1       285  ...  [{\"credit_id\": \"52fe4232c3a36847f800b579\", \"de...\n",
              "2    206647  ...  [{\"credit_id\": \"54805967c3a36829b5002c41\", \"de...\n",
              "3     49026  ...  [{\"credit_id\": \"52fe4781c3a36847f81398c3\", \"de...\n",
              "4     49529  ...  [{\"credit_id\": \"52fe479ac3a36847f813eaa3\", \"de...\n",
              "\n",
              "[5 rows x 4 columns]"
            ]
          },
          "metadata": {
            "tags": []
          },
          "execution_count": 5
        }
      ]
    },
    {
      "cell_type": "code",
      "metadata": {
        "colab": {
          "base_uri": "https://localhost:8080/",
          "height": 318
        },
        "id": "LmJSy7RfuC5L",
        "outputId": "c001cbab-0c4b-4932-fbe5-93f1e058c54b"
      },
      "source": [
        "movies.head(2)"
      ],
      "execution_count": 6,
      "outputs": [
        {
          "output_type": "execute_result",
          "data": {
            "text/html": [
              "<div>\n",
              "<style scoped>\n",
              "    .dataframe tbody tr th:only-of-type {\n",
              "        vertical-align: middle;\n",
              "    }\n",
              "\n",
              "    .dataframe tbody tr th {\n",
              "        vertical-align: top;\n",
              "    }\n",
              "\n",
              "    .dataframe thead th {\n",
              "        text-align: right;\n",
              "    }\n",
              "</style>\n",
              "<table border=\"1\" class=\"dataframe\">\n",
              "  <thead>\n",
              "    <tr style=\"text-align: right;\">\n",
              "      <th></th>\n",
              "      <th>budget</th>\n",
              "      <th>genres</th>\n",
              "      <th>homepage</th>\n",
              "      <th>id</th>\n",
              "      <th>keywords</th>\n",
              "      <th>original_language</th>\n",
              "      <th>original_title</th>\n",
              "      <th>overview</th>\n",
              "      <th>popularity</th>\n",
              "      <th>production_companies</th>\n",
              "      <th>production_countries</th>\n",
              "      <th>release_date</th>\n",
              "      <th>revenue</th>\n",
              "      <th>runtime</th>\n",
              "      <th>spoken_languages</th>\n",
              "      <th>status</th>\n",
              "      <th>tagline</th>\n",
              "      <th>title</th>\n",
              "      <th>vote_average</th>\n",
              "      <th>vote_count</th>\n",
              "    </tr>\n",
              "  </thead>\n",
              "  <tbody>\n",
              "    <tr>\n",
              "      <th>0</th>\n",
              "      <td>237000000</td>\n",
              "      <td>[{\"id\": 28, \"name\": \"Action\"}, {\"id\": 12, \"nam...</td>\n",
              "      <td>http://www.avatarmovie.com/</td>\n",
              "      <td>19995</td>\n",
              "      <td>[{\"id\": 1463, \"name\": \"culture clash\"}, {\"id\":...</td>\n",
              "      <td>en</td>\n",
              "      <td>Avatar</td>\n",
              "      <td>In the 22nd century, a paraplegic Marine is di...</td>\n",
              "      <td>150.437577</td>\n",
              "      <td>[{\"name\": \"Ingenious Film Partners\", \"id\": 289...</td>\n",
              "      <td>[{\"iso_3166_1\": \"US\", \"name\": \"United States o...</td>\n",
              "      <td>2009-12-10</td>\n",
              "      <td>2787965087</td>\n",
              "      <td>162.0</td>\n",
              "      <td>[{\"iso_639_1\": \"en\", \"name\": \"English\"}, {\"iso...</td>\n",
              "      <td>Released</td>\n",
              "      <td>Enter the World of Pandora.</td>\n",
              "      <td>Avatar</td>\n",
              "      <td>7.2</td>\n",
              "      <td>11800</td>\n",
              "    </tr>\n",
              "    <tr>\n",
              "      <th>1</th>\n",
              "      <td>300000000</td>\n",
              "      <td>[{\"id\": 12, \"name\": \"Adventure\"}, {\"id\": 14, \"...</td>\n",
              "      <td>http://disney.go.com/disneypictures/pirates/</td>\n",
              "      <td>285</td>\n",
              "      <td>[{\"id\": 270, \"name\": \"ocean\"}, {\"id\": 726, \"na...</td>\n",
              "      <td>en</td>\n",
              "      <td>Pirates of the Caribbean: At World's End</td>\n",
              "      <td>Captain Barbossa, long believed to be dead, ha...</td>\n",
              "      <td>139.082615</td>\n",
              "      <td>[{\"name\": \"Walt Disney Pictures\", \"id\": 2}, {\"...</td>\n",
              "      <td>[{\"iso_3166_1\": \"US\", \"name\": \"United States o...</td>\n",
              "      <td>2007-05-19</td>\n",
              "      <td>961000000</td>\n",
              "      <td>169.0</td>\n",
              "      <td>[{\"iso_639_1\": \"en\", \"name\": \"English\"}]</td>\n",
              "      <td>Released</td>\n",
              "      <td>At the end of the world, the adventure begins.</td>\n",
              "      <td>Pirates of the Caribbean: At World's End</td>\n",
              "      <td>6.9</td>\n",
              "      <td>4500</td>\n",
              "    </tr>\n",
              "  </tbody>\n",
              "</table>\n",
              "</div>"
            ],
            "text/plain": [
              "      budget  ... vote_count\n",
              "0  237000000  ...      11800\n",
              "1  300000000  ...       4500\n",
              "\n",
              "[2 rows x 20 columns]"
            ]
          },
          "metadata": {
            "tags": []
          },
          "execution_count": 6
        }
      ]
    },
    {
      "cell_type": "code",
      "metadata": {
        "colab": {
          "base_uri": "https://localhost:8080/"
        },
        "id": "mmeouQomuEg8",
        "outputId": "63c79536-02af-439b-f94c-6e36d5c46552"
      },
      "source": [
        "print(\"Credits: \", credits.shape)\r\n",
        "print(\"Movies :\", movies.shape)"
      ],
      "execution_count": 7,
      "outputs": [
        {
          "output_type": "stream",
          "text": [
            "Credits:  (4803, 4)\n",
            "Movies : (4803, 20)\n"
          ],
          "name": "stdout"
        }
      ]
    },
    {
      "cell_type": "markdown",
      "metadata": {
        "id": "X31skMrWvBGd"
      },
      "source": [
        "# **Combine Credits and Movies**"
      ]
    },
    {
      "cell_type": "code",
      "metadata": {
        "colab": {
          "base_uri": "https://localhost:8080/",
          "height": 204
        },
        "id": "JTSxgpI2vAK0",
        "outputId": "9fc9d630-f584-46d8-b2de-b49f9d97d648"
      },
      "source": [
        "credit_col_renamed = credits.rename(columns={ 'movie_id'\t: 'id' })\r\n",
        "credit_col_renamed.head()"
      ],
      "execution_count": 8,
      "outputs": [
        {
          "output_type": "execute_result",
          "data": {
            "text/html": [
              "<div>\n",
              "<style scoped>\n",
              "    .dataframe tbody tr th:only-of-type {\n",
              "        vertical-align: middle;\n",
              "    }\n",
              "\n",
              "    .dataframe tbody tr th {\n",
              "        vertical-align: top;\n",
              "    }\n",
              "\n",
              "    .dataframe thead th {\n",
              "        text-align: right;\n",
              "    }\n",
              "</style>\n",
              "<table border=\"1\" class=\"dataframe\">\n",
              "  <thead>\n",
              "    <tr style=\"text-align: right;\">\n",
              "      <th></th>\n",
              "      <th>id</th>\n",
              "      <th>title</th>\n",
              "      <th>cast</th>\n",
              "      <th>crew</th>\n",
              "    </tr>\n",
              "  </thead>\n",
              "  <tbody>\n",
              "    <tr>\n",
              "      <th>0</th>\n",
              "      <td>19995</td>\n",
              "      <td>Avatar</td>\n",
              "      <td>[{\"cast_id\": 242, \"character\": \"Jake Sully\", \"...</td>\n",
              "      <td>[{\"credit_id\": \"52fe48009251416c750aca23\", \"de...</td>\n",
              "    </tr>\n",
              "    <tr>\n",
              "      <th>1</th>\n",
              "      <td>285</td>\n",
              "      <td>Pirates of the Caribbean: At World's End</td>\n",
              "      <td>[{\"cast_id\": 4, \"character\": \"Captain Jack Spa...</td>\n",
              "      <td>[{\"credit_id\": \"52fe4232c3a36847f800b579\", \"de...</td>\n",
              "    </tr>\n",
              "    <tr>\n",
              "      <th>2</th>\n",
              "      <td>206647</td>\n",
              "      <td>Spectre</td>\n",
              "      <td>[{\"cast_id\": 1, \"character\": \"James Bond\", \"cr...</td>\n",
              "      <td>[{\"credit_id\": \"54805967c3a36829b5002c41\", \"de...</td>\n",
              "    </tr>\n",
              "    <tr>\n",
              "      <th>3</th>\n",
              "      <td>49026</td>\n",
              "      <td>The Dark Knight Rises</td>\n",
              "      <td>[{\"cast_id\": 2, \"character\": \"Bruce Wayne / Ba...</td>\n",
              "      <td>[{\"credit_id\": \"52fe4781c3a36847f81398c3\", \"de...</td>\n",
              "    </tr>\n",
              "    <tr>\n",
              "      <th>4</th>\n",
              "      <td>49529</td>\n",
              "      <td>John Carter</td>\n",
              "      <td>[{\"cast_id\": 5, \"character\": \"John Carter\", \"c...</td>\n",
              "      <td>[{\"credit_id\": \"52fe479ac3a36847f813eaa3\", \"de...</td>\n",
              "    </tr>\n",
              "  </tbody>\n",
              "</table>\n",
              "</div>"
            ],
            "text/plain": [
              "       id  ...                                               crew\n",
              "0   19995  ...  [{\"credit_id\": \"52fe48009251416c750aca23\", \"de...\n",
              "1     285  ...  [{\"credit_id\": \"52fe4232c3a36847f800b579\", \"de...\n",
              "2  206647  ...  [{\"credit_id\": \"54805967c3a36829b5002c41\", \"de...\n",
              "3   49026  ...  [{\"credit_id\": \"52fe4781c3a36847f81398c3\", \"de...\n",
              "4   49529  ...  [{\"credit_id\": \"52fe479ac3a36847f813eaa3\", \"de...\n",
              "\n",
              "[5 rows x 4 columns]"
            ]
          },
          "metadata": {
            "tags": []
          },
          "execution_count": 8
        }
      ]
    },
    {
      "cell_type": "code",
      "metadata": {
        "colab": {
          "base_uri": "https://localhost:8080/",
          "height": 318
        },
        "id": "1YZAw3R4uXr_",
        "outputId": "1d061b2f-3111-48df-c1d2-24cefa880974"
      },
      "source": [
        "movie_merged_df = movies.merge(credit_col_renamed, on ='id')\r\n",
        "movie_merged_df.head(2)"
      ],
      "execution_count": 9,
      "outputs": [
        {
          "output_type": "execute_result",
          "data": {
            "text/html": [
              "<div>\n",
              "<style scoped>\n",
              "    .dataframe tbody tr th:only-of-type {\n",
              "        vertical-align: middle;\n",
              "    }\n",
              "\n",
              "    .dataframe tbody tr th {\n",
              "        vertical-align: top;\n",
              "    }\n",
              "\n",
              "    .dataframe thead th {\n",
              "        text-align: right;\n",
              "    }\n",
              "</style>\n",
              "<table border=\"1\" class=\"dataframe\">\n",
              "  <thead>\n",
              "    <tr style=\"text-align: right;\">\n",
              "      <th></th>\n",
              "      <th>budget</th>\n",
              "      <th>genres</th>\n",
              "      <th>homepage</th>\n",
              "      <th>id</th>\n",
              "      <th>keywords</th>\n",
              "      <th>original_language</th>\n",
              "      <th>original_title</th>\n",
              "      <th>overview</th>\n",
              "      <th>popularity</th>\n",
              "      <th>production_companies</th>\n",
              "      <th>production_countries</th>\n",
              "      <th>release_date</th>\n",
              "      <th>revenue</th>\n",
              "      <th>runtime</th>\n",
              "      <th>spoken_languages</th>\n",
              "      <th>status</th>\n",
              "      <th>tagline</th>\n",
              "      <th>title_x</th>\n",
              "      <th>vote_average</th>\n",
              "      <th>vote_count</th>\n",
              "      <th>title_y</th>\n",
              "      <th>cast</th>\n",
              "      <th>crew</th>\n",
              "    </tr>\n",
              "  </thead>\n",
              "  <tbody>\n",
              "    <tr>\n",
              "      <th>0</th>\n",
              "      <td>237000000</td>\n",
              "      <td>[{\"id\": 28, \"name\": \"Action\"}, {\"id\": 12, \"nam...</td>\n",
              "      <td>http://www.avatarmovie.com/</td>\n",
              "      <td>19995</td>\n",
              "      <td>[{\"id\": 1463, \"name\": \"culture clash\"}, {\"id\":...</td>\n",
              "      <td>en</td>\n",
              "      <td>Avatar</td>\n",
              "      <td>In the 22nd century, a paraplegic Marine is di...</td>\n",
              "      <td>150.437577</td>\n",
              "      <td>[{\"name\": \"Ingenious Film Partners\", \"id\": 289...</td>\n",
              "      <td>[{\"iso_3166_1\": \"US\", \"name\": \"United States o...</td>\n",
              "      <td>2009-12-10</td>\n",
              "      <td>2787965087</td>\n",
              "      <td>162.0</td>\n",
              "      <td>[{\"iso_639_1\": \"en\", \"name\": \"English\"}, {\"iso...</td>\n",
              "      <td>Released</td>\n",
              "      <td>Enter the World of Pandora.</td>\n",
              "      <td>Avatar</td>\n",
              "      <td>7.2</td>\n",
              "      <td>11800</td>\n",
              "      <td>Avatar</td>\n",
              "      <td>[{\"cast_id\": 242, \"character\": \"Jake Sully\", \"...</td>\n",
              "      <td>[{\"credit_id\": \"52fe48009251416c750aca23\", \"de...</td>\n",
              "    </tr>\n",
              "    <tr>\n",
              "      <th>1</th>\n",
              "      <td>300000000</td>\n",
              "      <td>[{\"id\": 12, \"name\": \"Adventure\"}, {\"id\": 14, \"...</td>\n",
              "      <td>http://disney.go.com/disneypictures/pirates/</td>\n",
              "      <td>285</td>\n",
              "      <td>[{\"id\": 270, \"name\": \"ocean\"}, {\"id\": 726, \"na...</td>\n",
              "      <td>en</td>\n",
              "      <td>Pirates of the Caribbean: At World's End</td>\n",
              "      <td>Captain Barbossa, long believed to be dead, ha...</td>\n",
              "      <td>139.082615</td>\n",
              "      <td>[{\"name\": \"Walt Disney Pictures\", \"id\": 2}, {\"...</td>\n",
              "      <td>[{\"iso_3166_1\": \"US\", \"name\": \"United States o...</td>\n",
              "      <td>2007-05-19</td>\n",
              "      <td>961000000</td>\n",
              "      <td>169.0</td>\n",
              "      <td>[{\"iso_639_1\": \"en\", \"name\": \"English\"}]</td>\n",
              "      <td>Released</td>\n",
              "      <td>At the end of the world, the adventure begins.</td>\n",
              "      <td>Pirates of the Caribbean: At World's End</td>\n",
              "      <td>6.9</td>\n",
              "      <td>4500</td>\n",
              "      <td>Pirates of the Caribbean: At World's End</td>\n",
              "      <td>[{\"cast_id\": 4, \"character\": \"Captain Jack Spa...</td>\n",
              "      <td>[{\"credit_id\": \"52fe4232c3a36847f800b579\", \"de...</td>\n",
              "    </tr>\n",
              "  </tbody>\n",
              "</table>\n",
              "</div>"
            ],
            "text/plain": [
              "      budget  ...                                               crew\n",
              "0  237000000  ...  [{\"credit_id\": \"52fe48009251416c750aca23\", \"de...\n",
              "1  300000000  ...  [{\"credit_id\": \"52fe4232c3a36847f800b579\", \"de...\n",
              "\n",
              "[2 rows x 23 columns]"
            ]
          },
          "metadata": {
            "tags": []
          },
          "execution_count": 9
        }
      ]
    },
    {
      "cell_type": "code",
      "metadata": {
        "colab": {
          "base_uri": "https://localhost:8080/"
        },
        "id": "Sc4K9sWs2mrK",
        "outputId": "2b76cd5d-d95a-4d58-c6a8-7f685cefb29b"
      },
      "source": [
        "movie_merged_df.shape"
      ],
      "execution_count": 10,
      "outputs": [
        {
          "output_type": "execute_result",
          "data": {
            "text/plain": [
              "(4803, 23)"
            ]
          },
          "metadata": {
            "tags": []
          },
          "execution_count": 10
        }
      ]
    },
    {
      "cell_type": "code",
      "metadata": {
        "id": "1tNEMm8W2p9b"
      },
      "source": [
        "movies_cleaned_df = movie_merged_df.drop(columns=['homepage','title_x','title_y','status', 'production_countries'])"
      ],
      "execution_count": 11,
      "outputs": []
    },
    {
      "cell_type": "code",
      "metadata": {
        "colab": {
          "base_uri": "https://localhost:8080/",
          "height": 318
        },
        "id": "2roC-Wr73pMA",
        "outputId": "f45f3db6-8196-48e0-da92-15308a685f6b"
      },
      "source": [
        "movies_cleaned_df.head(2)"
      ],
      "execution_count": 12,
      "outputs": [
        {
          "output_type": "execute_result",
          "data": {
            "text/html": [
              "<div>\n",
              "<style scoped>\n",
              "    .dataframe tbody tr th:only-of-type {\n",
              "        vertical-align: middle;\n",
              "    }\n",
              "\n",
              "    .dataframe tbody tr th {\n",
              "        vertical-align: top;\n",
              "    }\n",
              "\n",
              "    .dataframe thead th {\n",
              "        text-align: right;\n",
              "    }\n",
              "</style>\n",
              "<table border=\"1\" class=\"dataframe\">\n",
              "  <thead>\n",
              "    <tr style=\"text-align: right;\">\n",
              "      <th></th>\n",
              "      <th>budget</th>\n",
              "      <th>genres</th>\n",
              "      <th>id</th>\n",
              "      <th>keywords</th>\n",
              "      <th>original_language</th>\n",
              "      <th>original_title</th>\n",
              "      <th>overview</th>\n",
              "      <th>popularity</th>\n",
              "      <th>production_companies</th>\n",
              "      <th>release_date</th>\n",
              "      <th>revenue</th>\n",
              "      <th>runtime</th>\n",
              "      <th>spoken_languages</th>\n",
              "      <th>tagline</th>\n",
              "      <th>vote_average</th>\n",
              "      <th>vote_count</th>\n",
              "      <th>cast</th>\n",
              "      <th>crew</th>\n",
              "    </tr>\n",
              "  </thead>\n",
              "  <tbody>\n",
              "    <tr>\n",
              "      <th>0</th>\n",
              "      <td>237000000</td>\n",
              "      <td>[{\"id\": 28, \"name\": \"Action\"}, {\"id\": 12, \"nam...</td>\n",
              "      <td>19995</td>\n",
              "      <td>[{\"id\": 1463, \"name\": \"culture clash\"}, {\"id\":...</td>\n",
              "      <td>en</td>\n",
              "      <td>Avatar</td>\n",
              "      <td>In the 22nd century, a paraplegic Marine is di...</td>\n",
              "      <td>150.437577</td>\n",
              "      <td>[{\"name\": \"Ingenious Film Partners\", \"id\": 289...</td>\n",
              "      <td>2009-12-10</td>\n",
              "      <td>2787965087</td>\n",
              "      <td>162.0</td>\n",
              "      <td>[{\"iso_639_1\": \"en\", \"name\": \"English\"}, {\"iso...</td>\n",
              "      <td>Enter the World of Pandora.</td>\n",
              "      <td>7.2</td>\n",
              "      <td>11800</td>\n",
              "      <td>[{\"cast_id\": 242, \"character\": \"Jake Sully\", \"...</td>\n",
              "      <td>[{\"credit_id\": \"52fe48009251416c750aca23\", \"de...</td>\n",
              "    </tr>\n",
              "    <tr>\n",
              "      <th>1</th>\n",
              "      <td>300000000</td>\n",
              "      <td>[{\"id\": 12, \"name\": \"Adventure\"}, {\"id\": 14, \"...</td>\n",
              "      <td>285</td>\n",
              "      <td>[{\"id\": 270, \"name\": \"ocean\"}, {\"id\": 726, \"na...</td>\n",
              "      <td>en</td>\n",
              "      <td>Pirates of the Caribbean: At World's End</td>\n",
              "      <td>Captain Barbossa, long believed to be dead, ha...</td>\n",
              "      <td>139.082615</td>\n",
              "      <td>[{\"name\": \"Walt Disney Pictures\", \"id\": 2}, {\"...</td>\n",
              "      <td>2007-05-19</td>\n",
              "      <td>961000000</td>\n",
              "      <td>169.0</td>\n",
              "      <td>[{\"iso_639_1\": \"en\", \"name\": \"English\"}]</td>\n",
              "      <td>At the end of the world, the adventure begins.</td>\n",
              "      <td>6.9</td>\n",
              "      <td>4500</td>\n",
              "      <td>[{\"cast_id\": 4, \"character\": \"Captain Jack Spa...</td>\n",
              "      <td>[{\"credit_id\": \"52fe4232c3a36847f800b579\", \"de...</td>\n",
              "    </tr>\n",
              "  </tbody>\n",
              "</table>\n",
              "</div>"
            ],
            "text/plain": [
              "      budget  ...                                               crew\n",
              "0  237000000  ...  [{\"credit_id\": \"52fe48009251416c750aca23\", \"de...\n",
              "1  300000000  ...  [{\"credit_id\": \"52fe4232c3a36847f800b579\", \"de...\n",
              "\n",
              "[2 rows x 18 columns]"
            ]
          },
          "metadata": {
            "tags": []
          },
          "execution_count": 12
        }
      ]
    },
    {
      "cell_type": "markdown",
      "metadata": {
        "id": "OP9pv0Ya45Mp"
      },
      "source": [
        "# **Using Weighted average for each movie's Average Rating**"
      ]
    },
    {
      "cell_type": "markdown",
      "metadata": {
        "id": "lDVyerO-40uC"
      },
      "source": [
        "![image.png](data:image/png;base64,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)"
      ]
    },
    {
      "cell_type": "code",
      "metadata": {
        "id": "8oeCiryg38-X"
      },
      "source": [
        "# Calculate according to the above rule\r\n",
        "v = movies_cleaned_df['vote_count']\r\n",
        "R = movies_cleaned_df['vote_average']\r\n",
        "m = movies_cleaned_df['vote_count'].quantile(0.70)\r\n",
        "C = movies_cleaned_df['vote_average'].mean()"
      ],
      "execution_count": 13,
      "outputs": []
    },
    {
      "cell_type": "code",
      "metadata": {
        "id": "ReYBrVAWAopE"
      },
      "source": [
        "movies_cleaned_df['weighted_average'] = ((R*v) + (C*m))/(v +m)"
      ],
      "execution_count": 14,
      "outputs": []
    },
    {
      "cell_type": "code",
      "metadata": {
        "colab": {
          "base_uri": "https://localhost:8080/",
          "height": 318
        },
        "id": "o4qCIW9CBDCe",
        "outputId": "451b6b54-2858-47f6-b35c-10cbf0dff7a4"
      },
      "source": [
        "movies_cleaned_df.head(2)"
      ],
      "execution_count": 15,
      "outputs": [
        {
          "output_type": "execute_result",
          "data": {
            "text/html": [
              "<div>\n",
              "<style scoped>\n",
              "    .dataframe tbody tr th:only-of-type {\n",
              "        vertical-align: middle;\n",
              "    }\n",
              "\n",
              "    .dataframe tbody tr th {\n",
              "        vertical-align: top;\n",
              "    }\n",
              "\n",
              "    .dataframe thead th {\n",
              "        text-align: right;\n",
              "    }\n",
              "</style>\n",
              "<table border=\"1\" class=\"dataframe\">\n",
              "  <thead>\n",
              "    <tr style=\"text-align: right;\">\n",
              "      <th></th>\n",
              "      <th>budget</th>\n",
              "      <th>genres</th>\n",
              "      <th>id</th>\n",
              "      <th>keywords</th>\n",
              "      <th>original_language</th>\n",
              "      <th>original_title</th>\n",
              "      <th>overview</th>\n",
              "      <th>popularity</th>\n",
              "      <th>production_companies</th>\n",
              "      <th>release_date</th>\n",
              "      <th>revenue</th>\n",
              "      <th>runtime</th>\n",
              "      <th>spoken_languages</th>\n",
              "      <th>tagline</th>\n",
              "      <th>vote_average</th>\n",
              "      <th>vote_count</th>\n",
              "      <th>cast</th>\n",
              "      <th>crew</th>\n",
              "      <th>weighted_average</th>\n",
              "    </tr>\n",
              "  </thead>\n",
              "  <tbody>\n",
              "    <tr>\n",
              "      <th>0</th>\n",
              "      <td>237000000</td>\n",
              "      <td>[{\"id\": 28, \"name\": \"Action\"}, {\"id\": 12, \"nam...</td>\n",
              "      <td>19995</td>\n",
              "      <td>[{\"id\": 1463, \"name\": \"culture clash\"}, {\"id\":...</td>\n",
              "      <td>en</td>\n",
              "      <td>Avatar</td>\n",
              "      <td>In the 22nd century, a paraplegic Marine is di...</td>\n",
              "      <td>150.437577</td>\n",
              "      <td>[{\"name\": \"Ingenious Film Partners\", \"id\": 289...</td>\n",
              "      <td>2009-12-10</td>\n",
              "      <td>2787965087</td>\n",
              "      <td>162.0</td>\n",
              "      <td>[{\"iso_639_1\": \"en\", \"name\": \"English\"}, {\"iso...</td>\n",
              "      <td>Enter the World of Pandora.</td>\n",
              "      <td>7.2</td>\n",
              "      <td>11800</td>\n",
              "      <td>[{\"cast_id\": 242, \"character\": \"Jake Sully\", \"...</td>\n",
              "      <td>[{\"credit_id\": \"52fe48009251416c750aca23\", \"de...</td>\n",
              "      <td>7.148013</td>\n",
              "    </tr>\n",
              "    <tr>\n",
              "      <th>1</th>\n",
              "      <td>300000000</td>\n",
              "      <td>[{\"id\": 12, \"name\": \"Adventure\"}, {\"id\": 14, \"...</td>\n",
              "      <td>285</td>\n",
              "      <td>[{\"id\": 270, \"name\": \"ocean\"}, {\"id\": 726, \"na...</td>\n",
              "      <td>en</td>\n",
              "      <td>Pirates of the Caribbean: At World's End</td>\n",
              "      <td>Captain Barbossa, long believed to be dead, ha...</td>\n",
              "      <td>139.082615</td>\n",
              "      <td>[{\"name\": \"Walt Disney Pictures\", \"id\": 2}, {\"...</td>\n",
              "      <td>2007-05-19</td>\n",
              "      <td>961000000</td>\n",
              "      <td>169.0</td>\n",
              "      <td>[{\"iso_639_1\": \"en\", \"name\": \"English\"}]</td>\n",
              "      <td>At the end of the world, the adventure begins.</td>\n",
              "      <td>6.9</td>\n",
              "      <td>4500</td>\n",
              "      <td>[{\"cast_id\": 4, \"character\": \"Captain Jack Spa...</td>\n",
              "      <td>[{\"credit_id\": \"52fe4232c3a36847f800b579\", \"de...</td>\n",
              "      <td>6.807627</td>\n",
              "    </tr>\n",
              "  </tbody>\n",
              "</table>\n",
              "</div>"
            ],
            "text/plain": [
              "      budget  ... weighted_average\n",
              "0  237000000  ...         7.148013\n",
              "1  300000000  ...         6.807627\n",
              "\n",
              "[2 rows x 19 columns]"
            ]
          },
          "metadata": {
            "tags": []
          },
          "execution_count": 15
        }
      ]
    },
    {
      "cell_type": "markdown",
      "metadata": {
        "id": "RZeo9qT5BTCi"
      },
      "source": [
        "**Sort the movies according to weighted average**"
      ]
    },
    {
      "cell_type": "code",
      "metadata": {
        "colab": {
          "base_uri": "https://localhost:8080/",
          "height": 669
        },
        "id": "xupv23tPBFjO",
        "outputId": "7b5f91ec-367a-4eb2-e152-703c5872f6e8"
      },
      "source": [
        "movie_sorted_ranking = movies_cleaned_df.sort_values('weighted_average', ascending=False)\r\n",
        "movie_sorted_ranking[['original_title','vote_average','vote_count', 'weighted_average','popularity']].head(20)"
      ],
      "execution_count": 27,
      "outputs": [
        {
          "output_type": "execute_result",
          "data": {
            "text/html": [
              "<div>\n",
              "<style scoped>\n",
              "    .dataframe tbody tr th:only-of-type {\n",
              "        vertical-align: middle;\n",
              "    }\n",
              "\n",
              "    .dataframe tbody tr th {\n",
              "        vertical-align: top;\n",
              "    }\n",
              "\n",
              "    .dataframe thead th {\n",
              "        text-align: right;\n",
              "    }\n",
              "</style>\n",
              "<table border=\"1\" class=\"dataframe\">\n",
              "  <thead>\n",
              "    <tr style=\"text-align: right;\">\n",
              "      <th></th>\n",
              "      <th>original_title</th>\n",
              "      <th>vote_average</th>\n",
              "      <th>vote_count</th>\n",
              "      <th>weighted_average</th>\n",
              "      <th>popularity</th>\n",
              "    </tr>\n",
              "  </thead>\n",
              "  <tbody>\n",
              "    <tr>\n",
              "      <th>1881</th>\n",
              "      <td>The Shawshank Redemption</td>\n",
              "      <td>8.5</td>\n",
              "      <td>8205</td>\n",
              "      <td>8.340775</td>\n",
              "      <td>136.747729</td>\n",
              "    </tr>\n",
              "    <tr>\n",
              "      <th>3337</th>\n",
              "      <td>The Godfather</td>\n",
              "      <td>8.4</td>\n",
              "      <td>5893</td>\n",
              "      <td>8.192887</td>\n",
              "      <td>143.659698</td>\n",
              "    </tr>\n",
              "    <tr>\n",
              "      <th>662</th>\n",
              "      <td>Fight Club</td>\n",
              "      <td>8.3</td>\n",
              "      <td>9413</td>\n",
              "      <td>8.171648</td>\n",
              "      <td>146.757391</td>\n",
              "    </tr>\n",
              "    <tr>\n",
              "      <th>3232</th>\n",
              "      <td>Pulp Fiction</td>\n",
              "      <td>8.3</td>\n",
              "      <td>8428</td>\n",
              "      <td>8.157615</td>\n",
              "      <td>121.463076</td>\n",
              "    </tr>\n",
              "    <tr>\n",
              "      <th>65</th>\n",
              "      <td>The Dark Knight</td>\n",
              "      <td>8.2</td>\n",
              "      <td>12002</td>\n",
              "      <td>8.102674</td>\n",
              "      <td>187.322927</td>\n",
              "    </tr>\n",
              "    <tr>\n",
              "      <th>809</th>\n",
              "      <td>Forrest Gump</td>\n",
              "      <td>8.2</td>\n",
              "      <td>7927</td>\n",
              "      <td>8.056059</td>\n",
              "      <td>138.133331</td>\n",
              "    </tr>\n",
              "    <tr>\n",
              "      <th>1818</th>\n",
              "      <td>Schindler's List</td>\n",
              "      <td>8.3</td>\n",
              "      <td>4329</td>\n",
              "      <td>8.038748</td>\n",
              "      <td>104.469351</td>\n",
              "    </tr>\n",
              "    <tr>\n",
              "      <th>3865</th>\n",
              "      <td>Whiplash</td>\n",
              "      <td>8.3</td>\n",
              "      <td>4254</td>\n",
              "      <td>8.034695</td>\n",
              "      <td>192.528841</td>\n",
              "    </tr>\n",
              "    <tr>\n",
              "      <th>96</th>\n",
              "      <td>Inception</td>\n",
              "      <td>8.1</td>\n",
              "      <td>13752</td>\n",
              "      <td>8.018611</td>\n",
              "      <td>167.583710</td>\n",
              "    </tr>\n",
              "    <tr>\n",
              "      <th>1990</th>\n",
              "      <td>The Empire Strikes Back</td>\n",
              "      <td>8.2</td>\n",
              "      <td>5879</td>\n",
              "      <td>8.010426</td>\n",
              "      <td>78.517830</td>\n",
              "    </tr>\n",
              "    <tr>\n",
              "      <th>2294</th>\n",
              "      <td>千と千尋の神隠し</td>\n",
              "      <td>8.3</td>\n",
              "      <td>3840</td>\n",
              "      <td>8.009851</td>\n",
              "      <td>118.968562</td>\n",
              "    </tr>\n",
              "    <tr>\n",
              "      <th>95</th>\n",
              "      <td>Interstellar</td>\n",
              "      <td>8.1</td>\n",
              "      <td>10867</td>\n",
              "      <td>7.998100</td>\n",
              "      <td>724.247784</td>\n",
              "    </tr>\n",
              "    <tr>\n",
              "      <th>2731</th>\n",
              "      <td>The Godfather: Part II</td>\n",
              "      <td>8.3</td>\n",
              "      <td>3338</td>\n",
              "      <td>7.972685</td>\n",
              "      <td>105.792936</td>\n",
              "    </tr>\n",
              "    <tr>\n",
              "      <th>329</th>\n",
              "      <td>The Lord of the Rings: The Return of the King</td>\n",
              "      <td>8.1</td>\n",
              "      <td>8064</td>\n",
              "      <td>7.965061</td>\n",
              "      <td>123.630332</td>\n",
              "    </tr>\n",
              "    <tr>\n",
              "      <th>2912</th>\n",
              "      <td>Star Wars</td>\n",
              "      <td>8.1</td>\n",
              "      <td>6624</td>\n",
              "      <td>7.938092</td>\n",
              "      <td>126.393695</td>\n",
              "    </tr>\n",
              "    <tr>\n",
              "      <th>690</th>\n",
              "      <td>The Green Mile</td>\n",
              "      <td>8.2</td>\n",
              "      <td>4048</td>\n",
              "      <td>7.935440</td>\n",
              "      <td>103.698022</td>\n",
              "    </tr>\n",
              "    <tr>\n",
              "      <th>1553</th>\n",
              "      <td>Se7en</td>\n",
              "      <td>8.1</td>\n",
              "      <td>5765</td>\n",
              "      <td>7.916176</td>\n",
              "      <td>79.579532</td>\n",
              "    </tr>\n",
              "    <tr>\n",
              "      <th>262</th>\n",
              "      <td>The Lord of the Rings: The Fellowship of the Ring</td>\n",
              "      <td>8.0</td>\n",
              "      <td>8705</td>\n",
              "      <td>7.880632</td>\n",
              "      <td>138.049577</td>\n",
              "    </tr>\n",
              "    <tr>\n",
              "      <th>1847</th>\n",
              "      <td>GoodFellas</td>\n",
              "      <td>8.2</td>\n",
              "      <td>3128</td>\n",
              "      <td>7.869817</td>\n",
              "      <td>63.654244</td>\n",
              "    </tr>\n",
              "    <tr>\n",
              "      <th>2091</th>\n",
              "      <td>The Silence of the Lambs</td>\n",
              "      <td>8.1</td>\n",
              "      <td>4443</td>\n",
              "      <td>7.867805</td>\n",
              "      <td>18.174804</td>\n",
              "    </tr>\n",
              "  </tbody>\n",
              "</table>\n",
              "</div>"
            ],
            "text/plain": [
              "                                         original_title  ...  popularity\n",
              "1881                           The Shawshank Redemption  ...  136.747729\n",
              "3337                                      The Godfather  ...  143.659698\n",
              "662                                          Fight Club  ...  146.757391\n",
              "3232                                       Pulp Fiction  ...  121.463076\n",
              "65                                      The Dark Knight  ...  187.322927\n",
              "809                                        Forrest Gump  ...  138.133331\n",
              "1818                                   Schindler's List  ...  104.469351\n",
              "3865                                           Whiplash  ...  192.528841\n",
              "96                                            Inception  ...  167.583710\n",
              "1990                            The Empire Strikes Back  ...   78.517830\n",
              "2294                                           千と千尋の神隠し  ...  118.968562\n",
              "95                                         Interstellar  ...  724.247784\n",
              "2731                             The Godfather: Part II  ...  105.792936\n",
              "329       The Lord of the Rings: The Return of the King  ...  123.630332\n",
              "2912                                          Star Wars  ...  126.393695\n",
              "690                                      The Green Mile  ...  103.698022\n",
              "1553                                              Se7en  ...   79.579532\n",
              "262   The Lord of the Rings: The Fellowship of the Ring  ...  138.049577\n",
              "1847                                         GoodFellas  ...   63.654244\n",
              "2091                           The Silence of the Lambs  ...   18.174804\n",
              "\n",
              "[20 rows x 5 columns]"
            ]
          },
          "metadata": {
            "tags": []
          },
          "execution_count": 27
        }
      ]
    },
    {
      "cell_type": "markdown",
      "metadata": {
        "id": "ZuGxuqS9wuEg"
      },
      "source": [
        "# **Data Visualization**"
      ]
    },
    {
      "cell_type": "code",
      "metadata": {
        "colab": {
          "base_uri": "https://localhost:8080/",
          "height": 204
        },
        "id": "IE5lSYzDDucO",
        "outputId": "89789144-c9b1-4644-c8cb-c7453e83a3e7"
      },
      "source": [
        "High_avgweighted_movies = movies_cleaned_df.sort_values('weighted_average', ascending=False)\r\n",
        "High_avgweighted_movies[['original_title','''weighted_average',]].head()"
      ],
      "execution_count": 20,
      "outputs": [
        {
          "output_type": "execute_result",
          "data": {
            "text/html": [
              "<div>\n",
              "<style scoped>\n",
              "    .dataframe tbody tr th:only-of-type {\n",
              "        vertical-align: middle;\n",
              "    }\n",
              "\n",
              "    .dataframe tbody tr th {\n",
              "        vertical-align: top;\n",
              "    }\n",
              "\n",
              "    .dataframe thead th {\n",
              "        text-align: right;\n",
              "    }\n",
              "</style>\n",
              "<table border=\"1\" class=\"dataframe\">\n",
              "  <thead>\n",
              "    <tr style=\"text-align: right;\">\n",
              "      <th></th>\n",
              "      <th>original_title</th>\n",
              "      <th>weighted_average</th>\n",
              "    </tr>\n",
              "  </thead>\n",
              "  <tbody>\n",
              "    <tr>\n",
              "      <th>1881</th>\n",
              "      <td>The Shawshank Redemption</td>\n",
              "      <td>8.340775</td>\n",
              "    </tr>\n",
              "    <tr>\n",
              "      <th>3337</th>\n",
              "      <td>The Godfather</td>\n",
              "      <td>8.192887</td>\n",
              "    </tr>\n",
              "    <tr>\n",
              "      <th>662</th>\n",
              "      <td>Fight Club</td>\n",
              "      <td>8.171648</td>\n",
              "    </tr>\n",
              "    <tr>\n",
              "      <th>3232</th>\n",
              "      <td>Pulp Fiction</td>\n",
              "      <td>8.157615</td>\n",
              "    </tr>\n",
              "    <tr>\n",
              "      <th>65</th>\n",
              "      <td>The Dark Knight</td>\n",
              "      <td>8.102674</td>\n",
              "    </tr>\n",
              "  </tbody>\n",
              "</table>\n",
              "</div>"
            ],
            "text/plain": [
              "                original_title  weighted_average\n",
              "1881  The Shawshank Redemption          8.340775\n",
              "3337             The Godfather          8.192887\n",
              "662                 Fight Club          8.171648\n",
              "3232              Pulp Fiction          8.157615\n",
              "65             The Dark Knight          8.102674"
            ]
          },
          "metadata": {
            "tags": []
          },
          "execution_count": 20
        }
      ]
    },
    {
      "cell_type": "markdown",
      "metadata": {
        "id": "s5wCih3EzcXP"
      },
      "source": [
        "# **Plot the best movies according to average rating**"
      ]
    },
    {
      "cell_type": "code",
      "metadata": {
        "colab": {
          "base_uri": "https://localhost:8080/",
          "height": 513
        },
        "id": "h9cWrpnhxb7c",
        "outputId": "7c315d67-b6de-45ce-d955-7cb4d522c4a4"
      },
      "source": [
        "plt.figure(figsize=(10,8))\r\n",
        "sns.barplot(y=High_avgweighted_movies['original_title'].head(10), x=High_avgweighted_movies['weighted_average'].head(10),data=High_avgweighted_movies);\r\n",
        "plt.title(\"Best movies by average weight\", weight='bold')\r\n",
        "plt.xlabel(\"Weighted Average\", weight='bold')\r\n",
        "plt.ylabel(\"Movie Title\", weight='bold')\r\n",
        "plt.savefig(\"Best_movies.png\")"
      ],
      "execution_count": 26,
      "outputs": [
        {
          "output_type": "display_data",
          "data": {
            "image/png": "[encoded data removed]",
            "text/plain": [
              "<Figure size 720x576 with 1 Axes>"
            ]
          },
          "metadata": {
            "tags": [],
            "needs_background": "light"
          }
        }
      ]
    },
    {
      "cell_type": "code",
      "metadata": {
        "colab": {
          "base_uri": "https://localhost:8080/",
          "height": 204
        },
        "id": "1fYOufcWyX3v",
        "outputId": "b3651c27-acf0-46ce-edfc-156f36ebca6d"
      },
      "source": [
        "popularity = High_avgweighted_movies.sort_values('popularity', ascending=False)\r\n",
        "popularity[['original_title','vote_average','vote_count','weighted_average','popularity']].head(5)"
      ],
      "execution_count": 32,
      "outputs": [
        {
          "output_type": "execute_result",
          "data": {
            "text/html": [
              "<div>\n",
              "<style scoped>\n",
              "    .dataframe tbody tr th:only-of-type {\n",
              "        vertical-align: middle;\n",
              "    }\n",
              "\n",
              "    .dataframe tbody tr th {\n",
              "        vertical-align: top;\n",
              "    }\n",
              "\n",
              "    .dataframe thead th {\n",
              "        text-align: right;\n",
              "    }\n",
              "</style>\n",
              "<table border=\"1\" class=\"dataframe\">\n",
              "  <thead>\n",
              "    <tr style=\"text-align: right;\">\n",
              "      <th></th>\n",
              "      <th>original_title</th>\n",
              "      <th>vote_average</th>\n",
              "      <th>vote_count</th>\n",
              "      <th>weighted_average</th>\n",
              "      <th>popularity</th>\n",
              "    </tr>\n",
              "  </thead>\n",
              "  <tbody>\n",
              "    <tr>\n",
              "      <th>546</th>\n",
              "      <td>Minions</td>\n",
              "      <td>6.4</td>\n",
              "      <td>4571</td>\n",
              "      <td>6.365286</td>\n",
              "      <td>875.581305</td>\n",
              "    </tr>\n",
              "    <tr>\n",
              "      <th>95</th>\n",
              "      <td>Interstellar</td>\n",
              "      <td>8.1</td>\n",
              "      <td>10867</td>\n",
              "      <td>7.998100</td>\n",
              "      <td>724.247784</td>\n",
              "    </tr>\n",
              "    <tr>\n",
              "      <th>788</th>\n",
              "      <td>Deadpool</td>\n",
              "      <td>7.4</td>\n",
              "      <td>10995</td>\n",
              "      <td>7.334360</td>\n",
              "      <td>514.569956</td>\n",
              "    </tr>\n",
              "    <tr>\n",
              "      <th>94</th>\n",
              "      <td>Guardians of the Galaxy</td>\n",
              "      <td>7.9</td>\n",
              "      <td>9742</td>\n",
              "      <td>7.798252</td>\n",
              "      <td>481.098624</td>\n",
              "    </tr>\n",
              "    <tr>\n",
              "      <th>127</th>\n",
              "      <td>Mad Max: Fury Road</td>\n",
              "      <td>7.2</td>\n",
              "      <td>9427</td>\n",
              "      <td>7.135687</td>\n",
              "      <td>434.278564</td>\n",
              "    </tr>\n",
              "  </tbody>\n",
              "</table>\n",
              "</div>"
            ],
            "text/plain": [
              "              original_title  vote_average  ...  weighted_average  popularity\n",
              "546                  Minions           6.4  ...          6.365286  875.581305\n",
              "95              Interstellar           8.1  ...          7.998100  724.247784\n",
              "788                 Deadpool           7.4  ...          7.334360  514.569956\n",
              "94   Guardians of the Galaxy           7.9  ...          7.798252  481.098624\n",
              "127       Mad Max: Fury Road           7.2  ...          7.135687  434.278564\n",
              "\n",
              "[5 rows x 5 columns]"
            ]
          },
          "metadata": {
            "tags": []
          },
          "execution_count": 32
        }
      ]
    },
    {
      "cell_type": "markdown",
      "metadata": {
        "id": "QQis8w0h1FfV"
      },
      "source": [
        "# **Plot most popular movies**"
      ]
    },
    {
      "cell_type": "code",
      "metadata": {
        "colab": {
          "base_uri": "https://localhost:8080/",
          "height": 513
        },
        "id": "jV7uTHiw0kmh",
        "outputId": "8e8ca0d2-423e-4f7c-abfe-1cb6e1dfaac0"
      },
      "source": [
        "plt.figure(figsize=(16,8))\r\n",
        "sns.barplot(x=popularity['popularity'].head(10), y=popularity['original_title'].head(10), data=popularity);\r\n",
        "plt.xlabel('Popularity', weight='bold')\r\n",
        "plt.ylabel(\"Movie Title\", weight='bold')\r\n",
        "plt.title('Most popular movies', weight='bold')\r\n",
        "plt.savefig(\"Most_popular_movies.png\")"
      ],
      "execution_count": 40,
      "outputs": [
        {
          "output_type": "display_data",
          "data": {
            "image/png": "[encoded data removed]",
            "text/plain": [
              "<Figure size 1152x576 with 1 Axes>"
            ]
          },
          "metadata": {
            "tags": [],
            "needs_background": "light"
          }
        }
      ]
    },
    {
      "cell_type": "markdown",
      "metadata": {
        "id": "koXGiIR22smH"
      },
      "source": [
        "# **Recommendations based on scaled weighted_average and popularity (50% priority given to both)**"
      ]
    },
    {
      "cell_type": "code",
      "metadata": {
        "colab": {
          "base_uri": "https://localhost:8080/",
          "height": 204
        },
        "id": "UdTmcuP01eLH",
        "outputId": "38d3a6ed-9300-41ec-949e-93908bf8fc06"
      },
      "source": [
        "#  Normalizing the values \r\n",
        "from sklearn.preprocessing import MinMaxScaler\r\n",
        "\r\n",
        "scaling = MinMaxScaler()\r\n",
        "movies_scaled_df = scaling.fit_transform(movies_cleaned_df[['weighted_average','popularity']])\r\n",
        "movies_normalized_df = pd.DataFrame(movies_scaled_df, columns=['weighted_average','popularity'])\r\n",
        "movies_normalized_df.head()"
      ],
      "execution_count": 41,
      "outputs": [
        {
          "output_type": "execute_result",
          "data": {
            "text/html": [
              "<div>\n",
              "<style scoped>\n",
              "    .dataframe tbody tr th:only-of-type {\n",
              "        vertical-align: middle;\n",
              "    }\n",
              "\n",
              "    .dataframe tbody tr th {\n",
              "        vertical-align: top;\n",
              "    }\n",
              "\n",
              "    .dataframe thead th {\n",
              "        text-align: right;\n",
              "    }\n",
              "</style>\n",
              "<table border=\"1\" class=\"dataframe\">\n",
              "  <thead>\n",
              "    <tr style=\"text-align: right;\">\n",
              "      <th></th>\n",
              "      <th>weighted_average</th>\n",
              "      <th>popularity</th>\n",
              "    </tr>\n",
              "  </thead>\n",
              "  <tbody>\n",
              "    <tr>\n",
              "      <th>0</th>\n",
              "      <td>0.674339</td>\n",
              "      <td>0.171815</td>\n",
              "    </tr>\n",
              "    <tr>\n",
              "      <th>1</th>\n",
              "      <td>0.581403</td>\n",
              "      <td>0.158846</td>\n",
              "    </tr>\n",
              "    <tr>\n",
              "      <th>2</th>\n",
              "      <td>0.436273</td>\n",
              "      <td>0.122635</td>\n",
              "    </tr>\n",
              "    <tr>\n",
              "      <th>3</th>\n",
              "      <td>0.773054</td>\n",
              "      <td>0.128272</td>\n",
              "    </tr>\n",
              "    <tr>\n",
              "      <th>4</th>\n",
              "      <td>0.387739</td>\n",
              "      <td>0.050169</td>\n",
              "    </tr>\n",
              "  </tbody>\n",
              "</table>\n",
              "</div>"
            ],
            "text/plain": [
              "   weighted_average  popularity\n",
              "0          0.674339    0.171815\n",
              "1          0.581403    0.158846\n",
              "2          0.436273    0.122635\n",
              "3          0.773054    0.128272\n",
              "4          0.387739    0.050169"
            ]
          },
          "metadata": {
            "tags": []
          },
          "execution_count": 41
        }
      ]
    },
    {
      "cell_type": "code",
      "metadata": {
        "id": "PYjok-h69ZSB"
      },
      "source": [
        "movies_cleaned_df[['Normalized_weighted_average', 'Normalized_popularity']] = movies_normalized_df"
      ],
      "execution_count": 43,
      "outputs": []
    },
    {
      "cell_type": "code",
      "metadata": {
        "id": "ukW2Ia3t9r3z"
      },
      "source": [
        "movies_cleaned_df['score'] = movies_cleaned_df['Normalized_weighted_average'] * 0.5 + movies_cleaned_df['Normalized_popularity']*0.5"
      ],
      "execution_count": 44,
      "outputs": []
    },
    {
      "cell_type": "code",
      "metadata": {
        "colab": {
          "base_uri": "https://localhost:8080/",
          "height": 204
        },
        "id": "G6X9mOF9-Hp3",
        "outputId": "1d2de17b-750e-425f-9ad8-f71063aa4a75"
      },
      "source": [
        "movies_cleaned_df[['original_title','vote_average','vote_count', 'weighted_average','popularity', 'Normalized_weighted_average', 'Normalized_popularity', 'score']].head(5)"
      ],
      "execution_count": 45,
      "outputs": [
        {
          "output_type": "execute_result",
          "data": {
            "text/html": [
              "<div>\n",
              "<style scoped>\n",
              "    .dataframe tbody tr th:only-of-type {\n",
              "        vertical-align: middle;\n",
              "    }\n",
              "\n",
              "    .dataframe tbody tr th {\n",
              "        vertical-align: top;\n",
              "    }\n",
              "\n",
              "    .dataframe thead th {\n",
              "        text-align: right;\n",
              "    }\n",
              "</style>\n",
              "<table border=\"1\" class=\"dataframe\">\n",
              "  <thead>\n",
              "    <tr style=\"text-align: right;\">\n",
              "      <th></th>\n",
              "      <th>original_title</th>\n",
              "      <th>vote_average</th>\n",
              "      <th>vote_count</th>\n",
              "      <th>weighted_average</th>\n",
              "      <th>popularity</th>\n",
              "      <th>Normalized_weighted_average</th>\n",
              "      <th>Normalized_popularity</th>\n",
              "      <th>score</th>\n",
              "    </tr>\n",
              "  </thead>\n",
              "  <tbody>\n",
              "    <tr>\n",
              "      <th>0</th>\n",
              "      <td>Avatar</td>\n",
              "      <td>7.2</td>\n",
              "      <td>11800</td>\n",
              "      <td>7.148013</td>\n",
              "      <td>150.437577</td>\n",
              "      <td>0.674339</td>\n",
              "      <td>0.171815</td>\n",
              "      <td>0.423077</td>\n",
              "    </tr>\n",
              "    <tr>\n",
              "      <th>1</th>\n",
              "      <td>Pirates of the Caribbean: At World's End</td>\n",
              "      <td>6.9</td>\n",
              "      <td>4500</td>\n",
              "      <td>6.807627</td>\n",
              "      <td>139.082615</td>\n",
              "      <td>0.581403</td>\n",
              "      <td>0.158846</td>\n",
              "      <td>0.370124</td>\n",
              "    </tr>\n",
              "    <tr>\n",
              "      <th>2</th>\n",
              "      <td>Spectre</td>\n",
              "      <td>6.3</td>\n",
              "      <td>4466</td>\n",
              "      <td>6.276075</td>\n",
              "      <td>107.376788</td>\n",
              "      <td>0.436273</td>\n",
              "      <td>0.122635</td>\n",
              "      <td>0.279454</td>\n",
              "    </tr>\n",
              "    <tr>\n",
              "      <th>3</th>\n",
              "      <td>The Dark Knight Rises</td>\n",
              "      <td>7.6</td>\n",
              "      <td>9106</td>\n",
              "      <td>7.509565</td>\n",
              "      <td>112.312950</td>\n",
              "      <td>0.773054</td>\n",
              "      <td>0.128272</td>\n",
              "      <td>0.450663</td>\n",
              "    </tr>\n",
              "    <tr>\n",
              "      <th>4</th>\n",
              "      <td>John Carter</td>\n",
              "      <td>6.1</td>\n",
              "      <td>2124</td>\n",
              "      <td>6.098319</td>\n",
              "      <td>43.926995</td>\n",
              "      <td>0.387739</td>\n",
              "      <td>0.050169</td>\n",
              "      <td>0.218954</td>\n",
              "    </tr>\n",
              "  </tbody>\n",
              "</table>\n",
              "</div>"
            ],
            "text/plain": [
              "                             original_title  ...     score\n",
              "0                                    Avatar  ...  0.423077\n",
              "1  Pirates of the Caribbean: At World's End  ...  0.370124\n",
              "2                                   Spectre  ...  0.279454\n",
              "3                     The Dark Knight Rises  ...  0.450663\n",
              "4                               John Carter  ...  0.218954\n",
              "\n",
              "[5 rows x 8 columns]"
            ]
          },
          "metadata": {
            "tags": []
          },
          "execution_count": 45
        }
      ]
    },
    {
      "cell_type": "markdown",
      "metadata": {
        "id": "1alipr5l-kIq"
      },
      "source": [
        "# **Plot best movies based on weighted average and popularity blend**"
      ]
    },
    {
      "cell_type": "code",
      "metadata": {
        "colab": {
          "base_uri": "https://localhost:8080/",
          "height": 638
        },
        "id": "YPkDvB6c-cqx",
        "outputId": "83054fa1-e7f7-42df-ed15-24d5cc2ddd6b"
      },
      "source": [
        "scored_df = movies_cleaned_df.sort_values('score', ascending=False)\r\n",
        "plt.figure(figsize=(16,10))\r\n",
        "sns.barplot(x=scored_df['score'].head(10), y=scored_df['original_title'].head(10), data=scored_df);\r\n",
        "plt.title(\"Best movies based on weighted average and Popularity blend\", weight='bold')\r\n",
        "plt.xlabel('Score', weight='bold')\r\n",
        "plt.ylabel(\"Movie Title\", weight='bold')"
      ],
      "execution_count": 51,
      "outputs": [
        {
          "output_type": "execute_result",
          "data": {
            "text/plain": [
              "Text(0, 0.5, 'Movie Title')"
            ]
          },
          "metadata": {
            "tags": []
          },
          "execution_count": 51
        },
        {
          "output_type": "display_data",
          "data": {
            "image/png": "[encoded data removed]",
            "text/plain": [
              "<Figure size 1152x720 with 1 Axes>"
            ]
          },
          "metadata": {
            "tags": [],
            "needs_background": "light"
          }
        }
      ]
    },
    {
      "cell_type": "code",
      "metadata": {
        "id": "7nyBThtN-5Cz"
      },
      "source": [
        ""
      ],
      "execution_count": null,
      "outputs": []
    }
  ]
}