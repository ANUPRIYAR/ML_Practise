{
  "nbformat": 4,
  "nbformat_minor": 0,
  "metadata": {
    "colab": {
      "name": "Finding_outlier.ipynb",
      "provenance": [],
      "authorship_tag": "ABX9TyMlQwDJb1fcsmke0qIEfFsh",
      "include_colab_link": true
    },
    "kernelspec": {
      "name": "python3",
      "display_name": "Python 3"
    }
  },
  "cells": [
    {
      "cell_type": "markdown",
      "metadata": {
        "id": "view-in-github",
        "colab_type": "text"
      },
      "source": [
        "<a href=\"https://colab.research.google.com/github/ANUPRIYAR/ML_Practise/blob/main/Finding_outlier.ipynb\" target=\"_parent\"><img src=\"https://colab.research.google.com/assets/colab-badge.svg\" alt=\"Open In Colab\"/></a>"
      ]
    },
    {
      "cell_type": "markdown",
      "metadata": {
        "id": "9BoIDFbTIrEO"
      },
      "source": [
        "# **Finding Outlier in a datatset**"
      ]
    },
    {
      "cell_type": "code",
      "metadata": {
        "id": "g6aGyjoiIlaq"
      },
      "source": [
        "import numpy as np\r\n",
        "import matplotlib.pyplot as plt\r\n",
        "%matplotlib inline"
      ],
      "execution_count": 1,
      "outputs": []
    },
    {
      "cell_type": "code",
      "metadata": {
        "id": "D0xWg9rkI4r3"
      },
      "source": [
        "dataset= [11,10,12,14,12,15,14,13,15,102,12,14,17,19,107, 10,13,12,14,12,108,12,11,14,13,15,10,15,12,10,14,13,15,10]"
      ],
      "execution_count": 2,
      "outputs": []
    },
    {
      "cell_type": "markdown",
      "metadata": {
        "id": "BCXsShVMJBfT"
      },
      "source": [
        "# **Detecting Outlier using Z-score**"
      ]
    },
    {
      "cell_type": "markdown",
      "metadata": {
        "id": "Zd4zzjkWJGRZ"
      },
      "source": [
        "**Using Z-score**\r\n",
        "\r\n",
        "z = (X — μ) / σ"
      ]
    },
    {
      "cell_type": "code",
      "metadata": {
        "id": "TfAB7YJ8JAFZ"
      },
      "source": [
        "Outliers = []\r\n",
        "\r\n",
        "def detect_outliers(data):\r\n",
        "  threshold=3\r\n",
        "  mean = np.mean(data)\r\n",
        "  std = np.std(data)\r\n",
        "\r\n",
        "  for i in data:\r\n",
        "    z_score = (i-mean)/std\r\n",
        "    if np.abs(z_score) > threshold:\r\n",
        "      Outliers.append(i)\r\n",
        "  return Outliers"
      ],
      "execution_count": 3,
      "outputs": []
    },
    {
      "cell_type": "code",
      "metadata": {
        "colab": {
          "base_uri": "https://localhost:8080/"
        },
        "id": "eoEhCQbDKVmA",
        "outputId": "00de2ee7-a291-4bd6-abcc-a5b6d85e12db"
      },
      "source": [
        "detect_outliers(dataset)"
      ],
      "execution_count": 4,
      "outputs": [
        {
          "output_type": "execute_result",
          "data": {
            "text/plain": [
              "[102, 107, 108]"
            ]
          },
          "metadata": {
            "tags": []
          },
          "execution_count": 4
        }
      ]
    },
    {
      "cell_type": "markdown",
      "metadata": {
        "id": "Zx0TFCV3Keye"
      },
      "source": [
        "# **InterQuartile Range**"
      ]
    },
    {
      "cell_type": "markdown",
      "metadata": {
        "id": "lqg0gaQyKnRR"
      },
      "source": [
        "75%- 25% values in a dataset\r\n",
        "\r\n",
        "Steps\r\n",
        "1. Arrange the data in increasing order\r\n",
        "2. Calculate first(q1) and third quartile(q3)\r\n",
        "3. Find interquartile range (q3-q1)\r\n",
        "4.Find lower bound q1*1.5\r\n",
        "5.Find upper bound q3*1.5\r\n",
        "Anything that lies outside of lower and upper bound is an outlier"
      ]
    },
    {
      "cell_type": "code",
      "metadata": {
        "colab": {
          "base_uri": "https://localhost:8080/"
        },
        "id": "qciHzph3Ktup",
        "outputId": "86962636-42ca-41c3-ba1d-c9ced97bcbae"
      },
      "source": [
        "# Peform all the steps of IQR\r\n",
        "sorted_data = sorted(dataset)\r\n",
        "sorted_data"
      ],
      "execution_count": 7,
      "outputs": [
        {
          "output_type": "execute_result",
          "data": {
            "text/plain": [
              "[10,\n",
              " 10,\n",
              " 10,\n",
              " 10,\n",
              " 10,\n",
              " 11,\n",
              " 11,\n",
              " 12,\n",
              " 12,\n",
              " 12,\n",
              " 12,\n",
              " 12,\n",
              " 12,\n",
              " 12,\n",
              " 13,\n",
              " 13,\n",
              " 13,\n",
              " 13,\n",
              " 14,\n",
              " 14,\n",
              " 14,\n",
              " 14,\n",
              " 14,\n",
              " 14,\n",
              " 15,\n",
              " 15,\n",
              " 15,\n",
              " 15,\n",
              " 15,\n",
              " 17,\n",
              " 19,\n",
              " 102,\n",
              " 107,\n",
              " 108]"
            ]
          },
          "metadata": {
            "tags": []
          },
          "execution_count": 7
        }
      ]
    },
    {
      "cell_type": "code",
      "metadata": {
        "colab": {
          "base_uri": "https://localhost:8080/"
        },
        "id": "UA9BpBghKYq3",
        "outputId": "41d46197-2a97-4d84-916d-7419bbc1ead3"
      },
      "source": [
        "quantile1, quantile3 = np.percentile(dataset, [25,75])\r\n",
        "quantile1, quantile3"
      ],
      "execution_count": 10,
      "outputs": [
        {
          "output_type": "execute_result",
          "data": {
            "text/plain": [
              "(12.0, 15.0)"
            ]
          },
          "metadata": {
            "tags": []
          },
          "execution_count": 10
        }
      ]
    },
    {
      "cell_type": "code",
      "metadata": {
        "colab": {
          "base_uri": "https://localhost:8080/"
        },
        "id": "7sFSni2nLKvx",
        "outputId": "82634598-3414-4b76-ad6f-230a3c885d79"
      },
      "source": [
        "IQR = quantile3 - quantile1\r\n",
        "IQR"
      ],
      "execution_count": 11,
      "outputs": [
        {
          "output_type": "execute_result",
          "data": {
            "text/plain": [
              "3.0"
            ]
          },
          "metadata": {
            "tags": []
          },
          "execution_count": 11
        }
      ]
    },
    {
      "cell_type": "code",
      "metadata": {
        "colab": {
          "base_uri": "https://localhost:8080/"
        },
        "id": "E2fOkk1GLer2",
        "outputId": "09116e12-1471-4c90-bcb8-7cb0c2806215"
      },
      "source": [
        "# Find the lower bound\r\n",
        "lower_bound = quantile1 - IQR*1.5\r\n",
        "upper_bound = quantile3 + IQR*1.5\r\n",
        "lower_bound, upper_bound"
      ],
      "execution_count": 15,
      "outputs": [
        {
          "output_type": "execute_result",
          "data": {
            "text/plain": [
              "(7.5, 19.5)"
            ]
          },
          "metadata": {
            "tags": []
          },
          "execution_count": 15
        }
      ]
    },
    {
      "cell_type": "code",
      "metadata": {
        "colab": {
          "base_uri": "https://localhost:8080/"
        },
        "id": "_aibblPqMEZ1",
        "outputId": "f32b5731-65db-42ce-8db3-d255d51fc2fc"
      },
      "source": [
        "# Finding Outliers\r\n",
        "Outliers =[]\r\n",
        "for i in dataset:\r\n",
        "  if i < lower_bound:\r\n",
        "    Outliers.append(i)\r\n",
        "  else:\r\n",
        "    if i > upper_bound:\r\n",
        "      Outliers.append(i)\r\n",
        "Outliers      "
      ],
      "execution_count": 16,
      "outputs": [
        {
          "output_type": "execute_result",
          "data": {
            "text/plain": [
              "[102, 107, 108]"
            ]
          },
          "metadata": {
            "tags": []
          },
          "execution_count": 16
        }
      ]
    },
    {
      "cell_type": "code",
      "metadata": {
        "id": "t4yd8CsXMki8"
      },
      "source": [
        ""
      ],
      "execution_count": null,
      "outputs": []
    }
  ]
}