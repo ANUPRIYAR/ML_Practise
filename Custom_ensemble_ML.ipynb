{
  "nbformat": 4,
  "nbformat_minor": 0,
  "metadata": {
    "colab": {
      "name": "Custom_ensemble_ML.ipynb",
      "provenance": [],
      "authorship_tag": "ABX9TyO1KdhVN2+i3I81OVpxMMt6",
      "include_colab_link": true
    },
    "kernelspec": {
      "name": "python3",
      "display_name": "Python 3"
    }
  },
  "cells": [
    {
      "cell_type": "markdown",
      "metadata": {
        "id": "view-in-github",
        "colab_type": "text"
      },
      "source": [
        "<a href=\"https://colab.research.google.com/github/ANUPRIYAR/ML_Practise/blob/main/Custom_ensemble_ML.ipynb\" target=\"_parent\"><img src=\"https://colab.research.google.com/assets/colab-badge.svg\" alt=\"Open In Colab\"/></a>"
      ]
    },
    {
      "cell_type": "markdown",
      "metadata": {
        "id": "JfFNCzax4Aoi"
      },
      "source": [
        "# Custom Ensemble Machine Learning Algorithms"
      ]
    },
    {
      "cell_type": "code",
      "metadata": {
        "id": "xw59S73zwOAs"
      },
      "source": [
        "from sklearn.datasets import make_classification\r\n",
        "X,y = make_classification(n_samples=1000,n_features=20, n_informative=15,n_redundant=5, random_state=1)"
      ],
      "execution_count": 1,
      "outputs": []
    },
    {
      "cell_type": "code",
      "metadata": {
        "colab": {
          "base_uri": "https://localhost:8080/"
        },
        "id": "-pOhHX-W4kQH",
        "outputId": "2b468a50-b2ac-446c-a975-8f47ea45beff"
      },
      "source": [
        "X"
      ],
      "execution_count": 2,
      "outputs": [
        {
          "output_type": "execute_result",
          "data": {
            "text/plain": [
              "array([[  2.47475454,   0.40165523,   1.68081787, ...,  -6.59044146,\n",
              "         -2.21290585,  -3.139579  ],\n",
              "       [  0.84802507,   2.81841945,  -2.76008732, ...,   3.00844461,\n",
              "          0.78661954,  -1.27681551],\n",
              "       [ -1.90041246,  -0.56901823,  -1.76220236, ...,   3.37336417,\n",
              "         -2.28613707,   1.90344983],\n",
              "       ...,\n",
              "       [  0.7673844 ,  -2.91920559,   2.80851577, ...,   4.42591832,\n",
              "          0.46321196,  -3.30523346],\n",
              "       [  2.05510667,  -0.99009741,   0.73577291, ...,   3.05100898,\n",
              "         -1.40715279,  -0.51579331],\n",
              "       [-10.96847792,  -2.39810735,  -0.96700953, ..., -11.16298557,\n",
              "          1.16646392,   0.60835176]])"
            ]
          },
          "metadata": {
            "tags": []
          },
          "execution_count": 2
        }
      ]
    },
    {
      "cell_type": "code",
      "metadata": {
        "colab": {
          "base_uri": "https://localhost:8080/"
        },
        "id": "8wve1Seb4mhx",
        "outputId": "c1ae548e-daa2-4081-b3a8-28ac5090a20d"
      },
      "source": [
        "from collections import Counter\r\n",
        "counter = Counter(y)\r\n",
        "counter"
      ],
      "execution_count": 4,
      "outputs": [
        {
          "output_type": "execute_result",
          "data": {
            "text/plain": [
              "Counter({0: 501, 1: 499})"
            ]
          },
          "metadata": {
            "tags": []
          },
          "execution_count": 4
        }
      ]
    },
    {
      "cell_type": "code",
      "metadata": {
        "id": "eBiq_up04vCS"
      },
      "source": [
        "from sklearn.tree import DecisionTreeClassifier\r\n",
        "from sklearn.ensemble import RandomForestClassifier\r\n",
        "from sklearn.svm import SVC\r\n",
        "from sklearn.model_selection import cross_val_score\r\n",
        "from sklearn.model_selection import RepeatedStratifiedKFold\r\n",
        "from sklearn.ensemble import VotingClassifier\r\n",
        "from sklearn.pipeline import Pipeline"
      ],
      "execution_count": 5,
      "outputs": []
    },
    {
      "cell_type": "markdown",
      "metadata": {
        "id": "4q4epuLZ_cD5"
      },
      "source": [
        "# ML models ensemble"
      ]
    },
    {
      "cell_type": "code",
      "metadata": {
        "id": "mJ0NTdTK5sPI"
      },
      "source": [
        "models = list()\r\n",
        "\r\n",
        "decision_tree = Pipeline([('m',DecisionTreeClassifier())])\r\n",
        "models.append(('decision',decision_tree))\r\n",
        "\r\n",
        "random_forest = Pipeline([('m', RandomForestClassifier())])\r\n",
        "models.append(('Random_forest',random_forest))\r\n",
        "\r\n",
        "svc = Pipeline([('m', SVC())])\r\n",
        "models.append(('svc', svc))\r\n",
        "\r\n",
        "# Define the voting ensemble\r\n",
        "ensemble = VotingClassifier(estimators=models, voting='hard')"
      ],
      "execution_count": 6,
      "outputs": []
    },
    {
      "cell_type": "code",
      "metadata": {
        "colab": {
          "base_uri": "https://localhost:8080/"
        },
        "id": "kQ5-xmLo-s_W",
        "outputId": "8dae0894-cce4-4ad4-c0b8-d0cb8b0a2d2e"
      },
      "source": [
        "models"
      ],
      "execution_count": 7,
      "outputs": [
        {
          "output_type": "execute_result",
          "data": {
            "text/plain": [
              "[('decision', Pipeline(memory=None,\n",
              "           steps=[('m',\n",
              "                   DecisionTreeClassifier(ccp_alpha=0.0, class_weight=None,\n",
              "                                          criterion='gini', max_depth=None,\n",
              "                                          max_features=None, max_leaf_nodes=None,\n",
              "                                          min_impurity_decrease=0.0,\n",
              "                                          min_impurity_split=None,\n",
              "                                          min_samples_leaf=1, min_samples_split=2,\n",
              "                                          min_weight_fraction_leaf=0.0,\n",
              "                                          presort='deprecated', random_state=None,\n",
              "                                          splitter='best'))],\n",
              "           verbose=False)), ('Random_forest', Pipeline(memory=None,\n",
              "           steps=[('m',\n",
              "                   RandomForestClassifier(bootstrap=True, ccp_alpha=0.0,\n",
              "                                          class_weight=None, criterion='gini',\n",
              "                                          max_depth=None, max_features='auto',\n",
              "                                          max_leaf_nodes=None, max_samples=None,\n",
              "                                          min_impurity_decrease=0.0,\n",
              "                                          min_impurity_split=None,\n",
              "                                          min_samples_leaf=1, min_samples_split=2,\n",
              "                                          min_weight_fraction_leaf=0.0,\n",
              "                                          n_estimators=100, n_jobs=None,\n",
              "                                          oob_score=False, random_state=None,\n",
              "                                          verbose=0, warm_start=False))],\n",
              "           verbose=False)), ('svc', Pipeline(memory=None,\n",
              "           steps=[('m',\n",
              "                   SVC(C=1.0, break_ties=False, cache_size=200, class_weight=None,\n",
              "                       coef0=0.0, decision_function_shape='ovr', degree=3,\n",
              "                       gamma='scale', kernel='rbf', max_iter=-1,\n",
              "                       probability=False, random_state=None, shrinking=True,\n",
              "                       tol=0.001, verbose=False))],\n",
              "           verbose=False))]"
            ]
          },
          "metadata": {
            "tags": []
          },
          "execution_count": 7
        }
      ]
    },
    {
      "cell_type": "code",
      "metadata": {
        "colab": {
          "base_uri": "https://localhost:8080/"
        },
        "id": "954fMA4O-wbY",
        "outputId": "edfa1f97-9c2f-435a-f2c9-56899c1cce35"
      },
      "source": [
        "ensemble"
      ],
      "execution_count": 8,
      "outputs": [
        {
          "output_type": "execute_result",
          "data": {
            "text/plain": [
              "VotingClassifier(estimators=[('decision',\n",
              "                              Pipeline(memory=None,\n",
              "                                       steps=[('m',\n",
              "                                               DecisionTreeClassifier(ccp_alpha=0.0,\n",
              "                                                                      class_weight=None,\n",
              "                                                                      criterion='gini',\n",
              "                                                                      max_depth=None,\n",
              "                                                                      max_features=None,\n",
              "                                                                      max_leaf_nodes=None,\n",
              "                                                                      min_impurity_decrease=0.0,\n",
              "                                                                      min_impurity_split=None,\n",
              "                                                                      min_samples_leaf=1,\n",
              "                                                                      min_samples_split=2,\n",
              "                                                                      min_weight_fraction_leaf=0.0,\n",
              "                                                                      presort='deprecated',\n",
              "                                                                      random_state...\n",
              "                                       verbose=False)),\n",
              "                             ('svc',\n",
              "                              Pipeline(memory=None,\n",
              "                                       steps=[('m',\n",
              "                                               SVC(C=1.0, break_ties=False,\n",
              "                                                   cache_size=200,\n",
              "                                                   class_weight=None, coef0=0.0,\n",
              "                                                   decision_function_shape='ovr',\n",
              "                                                   degree=3, gamma='scale',\n",
              "                                                   kernel='rbf', max_iter=-1,\n",
              "                                                   probability=False,\n",
              "                                                   random_state=None,\n",
              "                                                   shrinking=True, tol=0.001,\n",
              "                                                   verbose=False))],\n",
              "                                       verbose=False))],\n",
              "                 flatten_transform=True, n_jobs=None, voting='hard',\n",
              "                 weights=None)"
            ]
          },
          "metadata": {
            "tags": []
          },
          "execution_count": 8
        }
      ]
    },
    {
      "cell_type": "code",
      "metadata": {
        "id": "jxJx8tbk-4l_"
      },
      "source": [
        "cv = RepeatedStratifiedKFold(n_splits=10, n_repeats=3, random_state=1)\r\n",
        "n_scores = cross_val_score(ensemble,X,y,scoring='accuracy', cv=cv, n_jobs=-1)"
      ],
      "execution_count": 9,
      "outputs": []
    },
    {
      "cell_type": "code",
      "metadata": {
        "colab": {
          "base_uri": "https://localhost:8080/"
        },
        "id": "X7txClFJ_Xud",
        "outputId": "c4277736-5b5f-4c34-e91d-b22147f400d1"
      },
      "source": [
        "n_scores"
      ],
      "execution_count": 10,
      "outputs": [
        {
          "output_type": "execute_result",
          "data": {
            "text/plain": [
              "array([0.91, 0.96, 0.94, 0.94, 0.87, 0.95, 0.94, 0.9 , 0.97, 0.94, 0.97,\n",
              "       0.94, 0.91, 0.95, 0.91, 0.94, 0.95, 0.93, 0.96, 0.95, 0.94, 0.97,\n",
              "       0.96, 0.96, 0.92, 0.9 , 0.98, 0.94, 0.94, 0.9 ])"
            ]
          },
          "metadata": {
            "tags": []
          },
          "execution_count": 10
        }
      ]
    },
    {
      "cell_type": "code",
      "metadata": {
        "colab": {
          "base_uri": "https://localhost:8080/"
        },
        "id": "ZeIDdvx1_my0",
        "outputId": "f4bc34dc-baba-4197-d66d-42b8ec2b5827"
      },
      "source": [
        "n_scores.mean()"
      ],
      "execution_count": 11,
      "outputs": [
        {
          "output_type": "execute_result",
          "data": {
            "text/plain": [
              "0.9380000000000001"
            ]
          },
          "metadata": {
            "tags": []
          },
          "execution_count": 11
        }
      ]
    },
    {
      "cell_type": "code",
      "metadata": {
        "id": "xNg-IQFO_p8i"
      },
      "source": [
        ""
      ],
      "execution_count": null,
      "outputs": []
    }
  ]
}